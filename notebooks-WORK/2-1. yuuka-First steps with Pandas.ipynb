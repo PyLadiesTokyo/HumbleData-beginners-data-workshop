{
 "cells": [
  {
   "cell_type": "markdown",
   "metadata": {},
   "source": [
    "<div class=\"alert alert-block alert-info\" style=\"background-color: #301E40; border: 0px; -moz-border-radius: 10px; -webkit-border-radius: 10px;\">\n",
    "<br/><br/>\n",
    "<h1 style=\"font-size: 45px; color: white; align: center;\"><center>\n",
    "<img src=\"https://raw.githubusercontent.com/HumbleData/beginners-data-workshop/master/media/humble-data-logo-white-transparent.png\" width=\"250px\" /><br/><br/>\n",
    "Data Analysis with Pandas\n",
    "</center></h1>\n",
    "</div>"
   ]
  },
  {
   "cell_type": "markdown",
   "metadata": {},
   "source": [
    "> ***Note***: This notebook contains solution cells with ***a*** solution. Remember there is not only one solution to a problem!  \n",
    "> ***ノート***: このノートブックは、***a***の解答が書かれた解答欄があります。問題に対する解答は1つだけではないことを忘れないでください！  \n",
    "> \n",
    "> You will recognise these cells as they start with **# %**.  \n",
    "> これらのセルは**# %**で始まるので、見分けがつくでしょう。  \n",
    "> \n",
    "> If you would like to see the solution, you will have to remove the **#** (which can be done by using **Ctrl** and **?**) and run the cell. If you want to run the solution code, you will have to run the cell again.  \n",
    "> 解答を見たい場合は、**#** を削除して（**Ctrl** と **?** を使用することで削除ができます）、解答コードを実行したい場合は、もう一度セルを実行しなければなりません。"
   ]
  },
  {
   "cell_type": "markdown",
   "metadata": {},
   "source": [
    "<div class=\"alert alert-block alert-warning\" style=\"padding: 0px; padding-left: 20px; padding-top: 5px;\"><h2 style=\"color: #301E40\">\n",
    "Data analysis packages\n",
    "</h2><br>\n",
    "</div>"
   ]
  },
  {
   "cell_type": "markdown",
   "metadata": {},
   "source": [
    "<div class=\"alert alert-block alert-warning\" style=\"padding: 0px; padding-left: 20px; padding-top: 5px;\"><h2 style=\"color: #301E40\">\n",
    "データ分析パッケージ\n",
    "</h2><br>\n",
    "</div>"
   ]
  },
  {
   "cell_type": "markdown",
   "metadata": {},
   "source": [
    "Data Scientists use a wide variety of libraries in Python that make working with data significantly easier. Those libraries primarily consist of:  \n",
    "データサイエンティストは、Pythonのさまざまなライブラリを使用することで、データの扱いが格段に容易になります。これらのライブラリは主に以下のもので構成されています。\n",
    "\n",
    "\n",
    "| Package | Description |\n",
    "| -- | -- |\n",
    "| `NumPy` | Numerical calculations - does all the heavy lifting by passing out to C subroutines. This means you get _both_ the productivity of Python, _and_ the computational power of C. Best of both worlds! |\n",
    "| `SciPy` | Scientific computing, statistic tests, and much more! |\n",
    "| `pandas` | Your data manipulation swiss army knife. You'll likely see pandas used in any PyData demo! pandas is built on top of NumPy, so it's **fast**. |\n",
    "| `matplotlib` | An old but powerful data visualisation package, inspired by Matlab. |\n",
    "| `Seaborn` | A newer and easy-to-use but limited data visualisation package, built on top of matplotlib. |\n",
    "| `scikit-learn` | Your one-stop machine learning shop! Classification, regression, clustering, dimensional reduction and more. |\n",
    "| `nltk` and `spacy` | nltk = natural language processing toolkit; spacy is a newer package for natural language processing but very easy to use. |\n",
    "| `statsmodels` | Statistical tests, time series forecasting and more. The \"model formula\" interface will be familiar to R users. |\n",
    "| `requests` and `Beautiful Soup` | `requests` + `Beautiful Soup` = great combination for building web scrapers. |\n",
    "| `Jupyter` | Jupyter itself is a package too. See the latest version at https://pypi.org/project/jupyter/, and upgrade with e.g. `conda install jupyter==1.0.0` |\n",
    "\n",
    "<br>\n",
    "\n",
    "| パッケージ | 説明 |\n",
    "| -- | -- |\n",
    "| `NumPy` | 数字による計算 - PythonはC言語のサブルーチンに渡すことで、重たい仕事をすべてやってくれます。つまり、Pythonの生産性とC言語の計算能力の両方を手に入れることができます！ |\n",
    "| `SciPy` | 科学計算、統計学的テスト、その他色々できます！ |\n",
    "| `pandas` | データ操作の[スイス・アーミーナイフ](https://ja.wikipedia.org/wiki/%E3%82%A2%E3%83%BC%E3%83%9F%E3%83%BC%E3%83%8A%E3%82%A4%E3%83%95)です。 pandasはNumPyの上に構築されているので、**高速**です。 |\n",
    "| `matplotlib` | Matlabにインスパイアされた、古いけれど強力なデータ可視化パッケージ。 |\n",
    "| `Seaborn` | matplotlibの上に構築された、新しく使いやすいが限定的なデータ可視化パッケージ。 |\n",
    "| `scikit-learn` | 分類、回帰、クラスタリング、次元削減など、機械学習の一通りができます！ |\n",
    "| `nltk` と `spacy` | nltk = natural language processing toolkitの略です。 spacyは自然言語処理用の新しいパッケージですが、非常に使いやすいです。 |\n",
    "| `statsmodels` | 統計のテスト、時系列予測など、この「モデル式」インターフェースは、Rユーザーにはお馴染みでしょう。 |\n",
    "| `requests` と `Beautiful Soup` | `requests` + `Beautiful Soup` = ウェブスクレイピングを構築するには最適の組み合わせです。 |\n",
    "| `Jupyter` | Jupyter自体もパッケージです。 最新バージョンは https://pypi.org/project/jupyter/ を参照し、`conda install jupyter==1.0.0` などでアップグレードしてください。 |\n",
    "\n",
    "Though there are countless others available.  \n",
    "他にも数えきれないほどあります。\n",
    "\n",
    "For today, we'll primarily focus ourselves around the library that is 99% of our work: `pandas`. Pandas is built on top of the speed and power of NumPy.  \n",
    "今日では、私たちの仕事の99％を占めるライブラリーを中心に話しましょう： それは`pandas`です。PandasはNumPyのスピードとパワーの上に構築されています。"
   ]
  },
  {
   "cell_type": "markdown",
   "metadata": {},
   "source": [
    "---\n",
    "\n",
    "<div class=\"alert alert-block alert-warning\" style=\"padding: 0px; padding-left: 20px; padding-top: 5px;\"><h2 style=\"color: #301E40\">\n",
    "Imports\n",
    "</h2><br>\n",
    "</div>"
   ]
  },
  {
   "cell_type": "markdown",
   "metadata": {},
   "source": [
    "---\n",
    "\n",
    "<div class=\"alert alert-block alert-warning\" style=\"padding: 0px; padding-left: 20px; padding-top: 5px;\"><h2 style=\"color: #301E40\">\n",
    "インポート\n",
    "</h2><br>\n",
    "</div>"
   ]
  },
  {
   "cell_type": "code",
   "execution_count": null,
   "metadata": {
    "jupyter": {
     "outputs_hidden": false
    }
   },
   "outputs": [],
   "source": [
    "import pandas as pd"
   ]
  },
  {
   "cell_type": "markdown",
   "metadata": {},
   "source": [
    ">Import numpy using the convention seen at the end of the first notebook.  \n",
    ">numpyをインポートします。"
   ]
  },
  {
   "cell_type": "code",
   "execution_count": null,
   "metadata": {
    "jupyter": {
     "outputs_hidden": false
    }
   },
   "outputs": [],
   "source": []
  },
  {
   "cell_type": "code",
   "execution_count": null,
   "metadata": {
    "jupyter": {
     "outputs_hidden": false
    }
   },
   "outputs": [],
   "source": [
    "# %load ../solutions/02_01.py"
   ]
  }
 ],
 "metadata": {
  "kernelspec": {
   "display_name": "Python 3 (system-wide)",
   "language": "python",
   "name": "python3"
  },
  "language_info": {
   "codemirror_mode": {
    "name": "ipython",
    "version": 3
   },
   "file_extension": ".py",
   "mimetype": "text/x-python",
   "name": "python",
   "nbconvert_exporter": "python",
   "pygments_lexer": "ipython3",
   "version": "3.8.5"
  }
 },
 "nbformat": 4,
 "nbformat_minor": 4
}
