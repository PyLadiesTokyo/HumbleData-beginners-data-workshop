{
 "cells": [
  {
   "cell_type": "markdown",
   "metadata": {},
   "source": [
    "<div class=\"alert alert-block alert-info\" style=\"background-color: #301E40; border: 0px; -moz-border-radius: 10px; -webkit-border-radius: 10px;\">\n",
    "<br/><br/>\n",
    "<h1 style=\"font-size: 45px; color: white; align: center;\"><center>\n",
    "<img src=\"https://raw.githubusercontent.com/HumbleData/beginners-data-workshop/master/media/humble-data-logo-white-transparent.png\" width=\"250px\" /><br/><br/>\n",
    "Data Analysis with Pandas\n",
    "</center></h1>\n",
    "</div>"
   ]
  },
  {
   "cell_type": "markdown",
   "metadata": {},
   "source": [
    "> ***注意***: このノートブックは、***a***の解答が書かれた解答欄があります。問題に対する解答は1つだけではないことを忘れないでください！     \n",
    "> これらのセルは**# %**で始まるので、見分けがつくでしょう。  \n",
    "> 解答を見たい場合は、**#** を削除して（**Ctrl** と **?** を使用することで削除ができます）、解答コードを実行したい場合は、もう一度セルを実行しなければなりません。"
   ]
  },
  {
   "cell_type": "markdown",
   "metadata": {},
   "source": [
    "<div class=\"alert alert-block alert-warning\" style=\"padding: 0px; padding-left: 20px; padding-top: 5px;\"><h2 style=\"color: #301E40\">\n",
    "Data analysis packages\n",
    "</h2><br>\n",
    "</div>"
   ]
  },
  {
   "cell_type": "markdown",
   "metadata": {},
   "source": [
    "データサイエンティストは、Pythonのさまざまなライブラリを使用することで、データの扱いが格段に容易になります。これらのライブラリは主に以下のもので構成されています。\n",
    "\n",
    "<br>\n",
    "\n",
    "| パッケージ | 説明 |\n",
    "| -- | -- |\n",
    "| `NumPy` | 数字による計算 - PythonはC言語のサブルーチンに渡すことで、重たい仕事をすべてやってくれます。つまり、Pythonの生産性とC言語の計算能力の両方を手に入れることができます！ |\n",
    "| `SciPy` | 科学計算、統計学的テスト、その他色々できます！ |\n",
    "| `pandas` | データ操作の[スイス・アーミーナイフ](https://ja.wikipedia.org/wiki/%E3%82%A2%E3%83%BC%E3%83%9F%E3%83%BC%E3%83%8A%E3%82%A4%E3%83%95)です。 pandasはNumPyの上に構築されているので、**高速**です。 |\n",
    "| `matplotlib` | Matlabにインスパイアされた、古いけれど強力なデータ可視化パッケージ。 |\n",
    "| `Seaborn` | matplotlibの上に構築された、新しく使いやすいが限定的なデータ可視化パッケージ。 |\n",
    "| `scikit-learn` | 分類、回帰、クラスタリング、次元削減など、機械学習の一通りができます！ |\n",
    "| `nltk` と `spacy` | nltk = natural language processing toolkitの略です。 spacyは自然言語処理用の新しいパッケージですが、非常に使いやすいです。 |\n",
    "| `statsmodels` | 統計のテスト、時系列予測など、この「モデル式」インターフェースは、Rユーザーにはお馴染みでしょう。 |\n",
    "| `requests` と `Beautiful Soup` | `requests` + `Beautiful Soup` = ウェブスクレイピングを構築するには最適の組み合わせです。 |\n",
    "| `Jupyter` | Jupyter自体もパッケージです。 最新バージョンは https://pypi.org/project/jupyter/ を参照し、`conda install jupyter==1.0.0` などでアップグレードしてください。 |\n",
    "     \n",
    "他にも数えきれないほどあります。    \n",
    "     \n",
    "このページでは、私たちデータサイエンティストの仕事の99％を占めるライブラリーを中心に話しましょう： それは`pandas`です。PandasはNumPyのスピードとパワーの上に構築されています。"
   ]
  },
  {
   "cell_type": "markdown",
   "metadata": {},
   "source": [
    "---\n",
    "\n",
    "<div class=\"alert alert-block alert-warning\" style=\"padding: 0px; padding-left: 20px; padding-top: 5px;\"><h2 style=\"color: #301E40\">\n",
    "Imports\n",
    "</h2><br>\n",
    "</div>"
   ]
  },
  {
   "cell_type": "code",
   "execution_count": null,
   "metadata": {
    "jupyter": {
     "outputs_hidden": false
    }
   },
   "outputs": [],
   "source": [
    "import pandas as pd"
   ]
  },
  {
   "cell_type": "markdown",
   "metadata": {},
   "source": [
    "\n",
    ">numpyをインポートします。"
   ]
  },
  {
   "cell_type": "code",
   "execution_count": null,
   "metadata": {
    "jupyter": {
     "outputs_hidden": false
    }
   },
   "outputs": [],
   "source": []
  },
  {
   "cell_type": "code",
   "execution_count": null,
   "metadata": {
    "jupyter": {
     "outputs_hidden": false
    }
   },
   "outputs": [],
   "source": [
    "# %load ../solutions/02_01.py"
   ]
  }
 ],
 "metadata": {
  "kernelspec": {
   "display_name": "Python 3 (system-wide)",
   "language": "python",
   "name": "python3"
  },
  "language_info": {
   "codemirror_mode": {
    "name": "ipython",
    "version": 3
   },
   "file_extension": ".py",
   "mimetype": "text/x-python",
   "name": "python",
   "nbconvert_exporter": "python",
   "pygments_lexer": "ipython3",
   "version": "3.8.5"
  }
 },
 "nbformat": 4,
 "nbformat_minor": 4
}
