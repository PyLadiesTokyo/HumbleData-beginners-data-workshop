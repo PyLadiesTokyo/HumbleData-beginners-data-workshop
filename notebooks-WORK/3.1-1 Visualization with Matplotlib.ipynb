{
 "cells": [
  {
   "cell_type": "markdown",
   "metadata": {},
   "source": [
    "<div class=\"alert alert-block alert-info\" style=\"background-color: #301E40; border: 0px; -moz-border-radius: 10px; -webkit-border-radius: 10px;\">\n",
    "<br/><br/>\n",
    "<h1 style=\"font-size: 45px; color: white; align: center;\"><center>\n",
    "<img src=\"https://raw.githubusercontent.com/HumbleData/beginners-data-workshop/master/media/humble-data-logo-white-transparent.png\" width=\"250px\" /><br/><br/>\n",
    "Data visualization with matplotlib\n",
    "</center></h1>\n",
    "</div>"
   ]
  },
  {
   "cell_type": "markdown",
   "metadata": {},
   "source": [
    "![](https://matplotlib.org/_static/logo2_compressed.svg)"
   ]
  },
  {
   "cell_type": "markdown",
   "metadata": {},
   "source": [
    "<div class=\"alert alert-block alert-warning\" style=\"padding: 0px; padding-left: 20px; padding-top: 5px;\"><h2 style=\"color: #301E40\">\n",
    "Import pyplot in matplotlib (and pandas)\n",
    "</h2><br>\n",
    "</div>"
   ]
  },
  {
   "cell_type": "markdown",
   "metadata": {},
   "source": [
    "According to the [official documentation](https://matplotlib.org/gallery/index.html):\n",
    "\n",
    "`matplotlib.pyplot` is a collection of command style functions that make Matplotlib work like MATLAB. Each pyplot function makes some change to a figure: e.g., creates a figure, creates a plotting area in a figure, plots some lines in a plotting area, decorates the plot with labels, etc.\n",
    "\n",
    "`pyplot` is mainly intended for interactive plots and simple cases of programmatic plot generation."
   ]
  },
  {
   "cell_type": "markdown",
   "metadata": {},
   "source": [
    "![](https://miro.medium.com/max/2000/1*swPzVFGpYdijWAmbrydCDw.png)"
   ]
  },
  {
   "cell_type": "code",
   "execution_count": null,
   "metadata": {
    "jupyter": {
     "outputs_hidden": false
    }
   },
   "outputs": [],
   "source": [
    "%matplotlib inline\n",
    "# this is for ipython interpreter to show the plot in Jupyter\n",
    "\n",
    "import pandas as pd\n",
    "import matplotlib.pyplot as plt"
   ]
  },
  {
   "cell_type": "markdown",
   "metadata": {},
   "source": [
    "### Import the dataframe again, read it into a pandas DataFrame and assign it to df."
   ]
  },
  {
   "cell_type": "code",
   "execution_count": null,
   "metadata": {
    "jupyter": {
     "outputs_hidden": false
    }
   },
   "outputs": [],
   "source": [
    "df = pd.read_csv('../data/Penguins/penguins_clean.csv')"
   ]
  },
  {
   "cell_type": "markdown",
   "metadata": {},
   "source": [
    "### Refresh our memory about how the data looks like"
   ]
  },
  {
   "cell_type": "code",
   "execution_count": null,
   "metadata": {
    "jupyter": {
     "outputs_hidden": false
    }
   },
   "outputs": [],
   "source": [
    "df.head()"
   ]
  },
  {
   "cell_type": "markdown",
   "metadata": {},
   "source": [
    "### Using DataFrame.plot() in pandas\n",
    "\n",
    "pandas DataFrame object has a `plot()` method which provide basic plot of different kinds, including: 'line', 'bar', 'hist', 'box' etc. You can also set parameters to control the layout and labels of the plot.\n",
    "\n",
    "`plot()` uses `matplotlib.pyplot` in the background which makes plotting data in a DataFrame much easier \n",
    "\n",
    "You will find this page very helpful:\n",
    "https://pandas.pydata.org/pandas-docs/stable/reference/api/pandas.DataFrame.plot.html"
   ]
  },
  {
   "cell_type": "markdown",
   "metadata": {},
   "source": [
    "#### Example: Box plot in general"
   ]
  },
  {
   "cell_type": "code",
   "execution_count": null,
   "metadata": {
    "jupyter": {
     "outputs_hidden": false
    }
   },
   "outputs": [],
   "source": [
    "df.plot(kind='box')"
   ]
  },
  {
   "cell_type": "markdown",
   "metadata": {},
   "source": [
    "The scales of our data don't align particularly well. So for the sake of plotting, we'll ignore the body mass of the penguins."
   ]
  },
  {
   "cell_type": "code",
   "execution_count": null,
   "metadata": {},
   "outputs": [],
   "source": [
    "df.drop([\"body_mass_g\"], axis=1).plot(kind='box')"
   ]
  },
  {
   "cell_type": "markdown",
   "metadata": {},
   "source": [
    "#### Better presentation: figure size, add title and legend"
   ]
  },
  {
   "cell_type": "code",
   "execution_count": null,
   "metadata": {
    "jupyter": {
     "outputs_hidden": false
    }
   },
   "outputs": [],
   "source": [
    "df.drop([\"body_mass_g\"], axis=1).plot(kind='box', figsize=(10,8), title='Box plot of different measurements of species of penguin', legend=True)"
   ]
  },
  {
   "cell_type": "markdown",
   "metadata": {},
   "source": [
    "#### Making subplots"
   ]
  },
  {
   "cell_type": "code",
   "execution_count": null,
   "metadata": {
    "jupyter": {
     "outputs_hidden": false
    }
   },
   "outputs": [],
   "source": [
    "df.plot(kind='box',\n",
    "        subplots=True, layout=(2,2),\n",
    "        figsize=(10,8), title='Box plot of different measurements of species of penguin', legend=True)"
   ]
  },
  {
   "cell_type": "markdown",
   "metadata": {},
   "source": [
    "---\n",
    "\n",
    "<div class=\"alert alert-block alert-warning\" style=\"padding: 0px; padding-left: 20px; padding-top: 5px;\"><h2 style=\"color: #301E40\">\n",
    "Exercise: Compare bill length of different species of penguin\n",
    "</h2><br>\n",
    "</div>"
   ]
  },
  {
   "cell_type": "markdown",
   "metadata": {},
   "source": [
    "Let's use box plot to compare the bill length of different species of penguin. We need the DataFrame to be slightly different so we can compare the different type species of penguin. We would like to pivot the data so each column are bill length of different species of penguin."
   ]
  },
  {
   "cell_type": "markdown",
   "metadata": {},
   "source": [
    "####  Prepare the data set"
   ]
  },
  {
   "cell_type": "code",
   "execution_count": null,
   "metadata": {
    "jupyter": {
     "outputs_hidden": false
    }
   },
   "outputs": [],
   "source": [
    "df_pivot = df.pivot(index=None, columns='species', values='bill_length_mm')\n",
    "# tell the pivot() method to make the 'species' as columns, and using the 'bill_length_mm' as the value"
   ]
  },
  {
   "cell_type": "code",
   "execution_count": null,
   "metadata": {
    "jupyter": {
     "outputs_hidden": false
    }
   },
   "outputs": [],
   "source": [
    "df_pivot.sample(10)"
   ]
  },
  {
   "cell_type": "markdown",
   "metadata": {},
   "source": [
    "#### Box plot of df_pivot\n",
    "\n",
    "Now we can use `plot()` on `df_pivot`. To make a box plot, remember to set the parameter `kind` to 'box'. Also make the presentation nice by setting a good `figsize` and with a good `title`. Don't forget the `legend`."
   ]
  },
  {
   "cell_type": "code",
   "execution_count": null,
   "metadata": {
    "jupyter": {
     "outputs_hidden": false
    }
   },
   "outputs": [],
   "source": []
  },
  {
   "cell_type": "markdown",
   "metadata": {},
   "source": [
    "#### Additional exercise\n",
    "\n",
    "Challenge yourself by making your own `df_pivot` pivoting on a different measure (e.g. Body Mass). Also try using a histogram (hist) instead of a boxplot. You can also try making a plot with 3 subplots, each is a histogram of a type of penguin."
   ]
  },
  {
   "cell_type": "code",
   "execution_count": null,
   "metadata": {
    "jupyter": {
     "outputs_hidden": false
    }
   },
   "outputs": [],
   "source": []
  },
  {
   "cell_type": "markdown",
   "metadata": {},
   "source": [
    "So far we are not using `matplotlib.pyplot` directly. Although it is very convenient to use `df.plot()`, sometimes we would like to have more control with what we are plotting and make more complex graphs. In the following sections, we will use `matplotlib.pyplot` (which is imported as `plt` now) directly."
   ]
  },
  {
   "cell_type": "markdown",
   "metadata": {},
   "source": [
    "### Divide the data into 3 types accordingly"
   ]
  },
  {
   "cell_type": "code",
   "execution_count": null,
   "metadata": {
    "jupyter": {
     "outputs_hidden": false
    }
   },
   "outputs": [],
   "source": [
    "df['species'].unique()"
   ]
  },
  {
   "cell_type": "code",
   "execution_count": null,
   "metadata": {
    "jupyter": {
     "outputs_hidden": false
    }
   },
   "outputs": [],
   "source": [
    "df_adelie = df[df['species'] == 'Adelie']"
   ]
  },
  {
   "cell_type": "code",
   "execution_count": null,
   "metadata": {
    "jupyter": {
     "outputs_hidden": false
    }
   },
   "outputs": [],
   "source": [
    "df_chinstrap = df[df['species'] == 'Chinstrap']"
   ]
  },
  {
   "cell_type": "code",
   "execution_count": null,
   "metadata": {
    "jupyter": {
     "outputs_hidden": false
    }
   },
   "outputs": [],
   "source": [
    "df_gentoo = df[df['species'] == 'Gentoo']"
   ]
  },
  {
   "cell_type": "markdown",
   "metadata": {},
   "source": [
    "### Scatter plot example: plot on Bill Length and Width"
   ]
  },
  {
   "cell_type": "code",
   "execution_count": null,
   "metadata": {
    "jupyter": {
     "outputs_hidden": false
    }
   },
   "outputs": [],
   "source": [
    "plt.scatter(df_adelie['bill_length_mm'], df_adelie['bill_depth_mm'], c='r')\n",
    "plt.scatter(df_chinstrap['bill_length_mm'], df_chinstrap['bill_depth_mm'], c='g')\n",
    "plt.scatter(df_gentoo['bill_length_mm'], df_gentoo['bill_depth_mm'], c='b')"
   ]
  },
  {
   "cell_type": "markdown",
   "metadata": {},
   "source": [
    "#### Better presentation: figure size, add labels and legend"
   ]
  },
  {
   "cell_type": "code",
   "execution_count": null,
   "metadata": {
    "jupyter": {
     "outputs_hidden": false
    }
   },
   "outputs": [],
   "source": [
    "plt.figure(figsize=(10,8)) # set the size of the plot\n",
    "\n",
    "plt.scatter(df_adelie['bill_length_mm'], df_adelie['bill_depth_mm'], c='r')\n",
    "plt.scatter(df_chinstrap['bill_length_mm'], df_chinstrap['bill_depth_mm'], c='g')\n",
    "plt.scatter(df_gentoo['bill_length_mm'], df_gentoo['bill_depth_mm'], c='b')\n",
    "\n",
    "ax = plt.gca() #gca method tell the rest of the code to reference the plot we made\n",
    "\n",
    "ax.set_xlabel('Bill Length (mm)')\n",
    "ax.set_ylabel('Bill Width (mm)')\n",
    "ax.set_title('Bill Length and Width for Different Species of Penguin')\n",
    "\n",
    "ax.legend(('adelie', 'chinstrap', 'gentoo'))"
   ]
  },
  {
   "cell_type": "markdown",
   "metadata": {},
   "source": [
    "### Scatter plot exercise: plot on Flipper Length and Body Mass\n",
    "\n",
    "Now is your turn to make your own plot. Make sure you have also set the labels and legend"
   ]
  },
  {
   "cell_type": "code",
   "execution_count": null,
   "metadata": {
    "jupyter": {
     "outputs_hidden": false
    }
   },
   "outputs": [],
   "source": []
  },
  {
   "cell_type": "markdown",
   "metadata": {},
   "source": [
    "### Histogram example: plot on Bill Length"
   ]
  },
  {
   "cell_type": "code",
   "execution_count": null,
   "metadata": {
    "jupyter": {
     "outputs_hidden": false
    }
   },
   "outputs": [],
   "source": [
    "plt.figure(figsize=(10,8))\n",
    "\n",
    "plt.hist(df_adelie['bill_length_mm'], color='r', alpha=.5) # alpha set the transparency of the plot\n",
    "plt.hist(df_chinstrap['bill_length_mm'], color='g', alpha=.5)\n",
    "plt.hist(df_gentoo['bill_length_mm'], color='b', alpha=.5)\n",
    "\n",
    "ax = plt.gca()\n",
    "\n",
    "ax.set_xlabel('Bill Length (mm)')\n",
    "ax.set_title('Histogram of Bill Length for Different Species of Penguin')\n",
    "\n",
    "ax.legend(('adelie', 'chinstrap', 'gentoo'))"
   ]
  }
 ],
 "metadata": {
  "kernelspec": {
   "display_name": "Python 3 (system-wide)",
   "language": "python",
   "name": "python3"
  },
  "language_info": {
   "codemirror_mode": {
    "name": "ipython",
    "version": 3
   },
   "file_extension": ".py",
   "mimetype": "text/x-python",
   "name": "python",
   "nbconvert_exporter": "python",
   "pygments_lexer": "ipython3",
   "version": "3.8.5"
  }
 },
 "nbformat": 4,
 "nbformat_minor": 4
}
