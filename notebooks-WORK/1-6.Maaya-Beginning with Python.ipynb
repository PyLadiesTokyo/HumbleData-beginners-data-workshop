{
 "cells": [
  {
   "cell_type": "markdown",
   "metadata": {},
   "source": [
    "---\n",
    "\n",
    "<div class=\"alert alert-block alert-warning\" style=\"padding: 0px; padding-left: 20px; padding-top: 5px;\"><h2 style=\"color: #301E40\">\n",
    "Lists\n",
    "</h2><br>\n",
    "</div>"
   ]
  },
  {
   "cell_type": "markdown",
   "metadata": {},
   "source": [
    "A list is a list of comma-separated values between square brackets.    \n",
    "List型はカンマで区切られた値たちを角カッコ[ ]でくくります。\n",
    "\n",
    "The items of a list can have different types.    \n",
    "リストの中に入れる値は様々な型を入れることができます。"
   ]
  },
  {
   "cell_type": "code",
   "execution_count": null,
   "metadata": {
    "jupyter": {
     "outputs_hidden": false
    }
   },
   "outputs": [],
   "source": [
    "list_greeting = ['Hallo', 'Bonjour', 10, 'Hello', 'Ciao', False]"
   ]
  },
  {
   "cell_type": "markdown",
   "metadata": {},
   "source": [
    "We can access a single value using a slice, and several values using slice range. Check the \"string slicing\" section above for this.    \n",
    "リストの中の特定の値にアクセスしたい場合、「スライス」という記法を使って値を取得することができます。また、リストの中の複数の値を取得したい場合は、「スライス レンジ」という記法で取得することが可能です。この記法については、前項で出てきた「文字列のスライス」のセクションを確認してください。"
   ]
  },
  {
   "cell_type": "markdown",
   "metadata": {},
   "source": [
    ">Get the first item of the list.    \n",
    ">リストの最初の値を取得してみましょう。"
   ]
  },
  {
   "cell_type": "code",
   "execution_count": null,
   "metadata": {
    "jupyter": {
     "outputs_hidden": false
    }
   },
   "outputs": [],
   "source": []
  },
  {
   "cell_type": "code",
   "execution_count": null,
   "metadata": {
    "jupyter": {
     "outputs_hidden": false
    }
   },
   "outputs": [],
   "source": [
    "# %load ../solutions/01_23.py"
   ]
  },
  {
   "cell_type": "markdown",
   "metadata": {},
   "source": [
    "Get every the items from the list, starting with the 4th one.    \n",
    "リストの中から4番目以降に入っている値すべてを取得してみましょう。\n",
    "\n",
    "Note that there is no need to put a number after the colon when when want to select until the end of the list.    \n",
    "Note: リストの最後の値までを取得したい場合はコロンの後に数字を入れる必要はありません。"
   ]
  },
  {
   "cell_type": "markdown",
   "metadata": {},
   "source": [
    ">Get the items starting with the one with index 3 until the end of the list.    \n",
    ">リストのインデックス3の値から最後の値までを取得してみましょう。"
   ]
  },
  {
   "cell_type": "code",
   "execution_count": null,
   "metadata": {
    "jupyter": {
     "outputs_hidden": false
    }
   },
   "outputs": [],
   "source": []
  },
  {
   "cell_type": "code",
   "execution_count": null,
   "metadata": {
    "jupyter": {
     "outputs_hidden": false
    }
   },
   "outputs": [],
   "source": [
    "# %load ../solutions/01_24.py"
   ]
  },
  {
   "cell_type": "markdown",
   "metadata": {},
   "source": [
    "**Get the items from the list until the 4th one.**    \n",
    "**リストの先頭から4番目までの値を取得してみましょう**"
   ]
  },
  {
   "cell_type": "markdown",
   "metadata": {},
   "source": [
    ">Get the items from the beginning of the list until the value with index 4 (index 4 is excluded).    \n",
    ">リストの先頭からインデックス4までの値を取得してみましょう。(取得される値からインデックス4の値は除外されています)。"
   ]
  },
  {
   "cell_type": "code",
   "execution_count": null,
   "metadata": {
    "jupyter": {
     "outputs_hidden": false
    }
   },
   "outputs": [],
   "source": []
  },
  {
   "cell_type": "code",
   "execution_count": null,
   "metadata": {
    "jupyter": {
     "outputs_hidden": false
    }
   },
   "outputs": [],
   "source": [
    "# %load ../solutions/01_25.py"
   ]
  },
  {
   "cell_type": "markdown",
   "metadata": {},
   "source": [
    "**Advanced slicing allows us to set how the list's index will increment between the start/stop indexes we select.**    \n",
    "**高度なスライス記法では、選択したインデックスの開始位置・終了位置の間でリストのインデックスをどのようにインクリメントするかを指定することができます。**   \n",
    "The slicing then looks like this: [start:stop:step]    \n",
    "スライス記法は次のように書くことができます。    \n",
    "\n",
    "[開始位置 : 終了位置 : インクリメント設定]    \n",
    "          \n",
    "For example, if we want to select every third items of a list, we will set the step as 3.    \n",
    "例えば、リストの3の倍数ごとに値を取得したい場合は、インクリメント設定部分に3と入力します。"
   ]
  },
  {
   "cell_type": "markdown",
   "metadata": {},
   "source": [
    ">Get every other items from the list of greetings    \n",
    ">list_greetingのリスト全体から1つおきに値を取得してみましょう"
   ]
  },
  {
   "cell_type": "code",
   "execution_count": null,
   "metadata": {
    "jupyter": {
     "outputs_hidden": false
    }
   },
   "outputs": [],
   "source": []
  },
  {
   "cell_type": "code",
   "execution_count": null,
   "metadata": {
    "jupyter": {
     "outputs_hidden": false
    }
   },
   "outputs": [],
   "source": [
    "# %load ../solutions/01_26.py"
   ]
  },
  {
   "cell_type": "markdown",
   "metadata": {},
   "source": [
    "**We can update a list by re-assigning a value selected using a slice.**    \n",
    "**スライスを使用して選択した値に再度新しい値を設定することで、リストを更新することができます。**        \n",
    "    \n",
    "For example, we can replace False with 'Ave' in list_greeting.    \n",
    "例えば、list_greeting内のFalseを'Ave'で置き換えることができます。"
   ]
  },
  {
   "cell_type": "code",
   "execution_count": null,
   "metadata": {
    "jupyter": {
     "outputs_hidden": false
    }
   },
   "outputs": [],
   "source": [
    "list_greeting[-1] = 'Ave'\n",
    "print(list_greeting)"
   ]
  },
  {
   "cell_type": "markdown",
   "metadata": {},
   "source": [
    ">Replace 10 with Hola in list_greetings, then print list_greeting to check it.\n",
    "\n",
    ">list_greetings に含まれている 10 をHolaに置き換えて、その後 list_greeting を表示して確認してみましょう。"
   ]
  },
  {
   "cell_type": "code",
   "execution_count": null,
   "metadata": {
    "jupyter": {
     "outputs_hidden": false
    }
   },
   "outputs": [],
   "source": []
  },
  {
   "cell_type": "code",
   "execution_count": null,
   "metadata": {
    "jupyter": {
     "outputs_hidden": false
    }
   },
   "outputs": [],
   "source": [
    "# %load ../solutions/01_27.py"
   ]
  },
  {
   "cell_type": "markdown",
   "metadata": {},
   "source": [
    "We can have lists inside a list, these are often called \"nested lists\":\n",
    "\n",
    "リスト内にリストを持つことができ、これらは通常「ネストされたリスト」と呼ばれます。"
   ]
  },
  {
   "cell_type": "code",
   "execution_count": null,
   "metadata": {
    "jupyter": {
     "outputs_hidden": false
    }
   },
   "outputs": [],
   "source": [
    "list_of_lists = [[1, 2, 3], [4, 5]]"
   ]
  },
  {
   "cell_type": "code",
   "execution_count": null,
   "metadata": {
    "jupyter": {
     "outputs_hidden": false
    }
   },
   "outputs": [],
   "source": [
    "list_of_lists[0]  # access the first element of the list, which is a list."
   ]
  },
  {
   "cell_type": "code",
   "execution_count": null,
   "metadata": {
    "jupyter": {
     "outputs_hidden": false
    }
   },
   "outputs": [],
   "source": [
    "list_of_lists[0][-1]  # access the last element of the first list."
   ]
  },
  {
   "cell_type": "markdown",
   "metadata": {},
   "source": [
    "We can concatenate lists using ' + '.\n",
    "\n",
    "リストを ' + ' を使用して連結できます。"
   ]
  },
  {
   "cell_type": "code",
   "execution_count": null,
   "metadata": {
    "jupyter": {
     "outputs_hidden": false
    }
   },
   "outputs": [],
   "source": [
    "[1, 2, 3] + [4, 5, 6]"
   ]
  },
  {
   "cell_type": "markdown",
   "metadata": {},
   "source": [
    "We can also use the multiplication to repeat values in a list (only works with integers).\n",
    "\n",
    "整数と一緒に使用してリスト内の値を繰り返すために乗算を使用することもできます。(integerのみ機能します)"
   ]
  },
  {
   "cell_type": "code",
   "execution_count": null,
   "metadata": {
    "jupyter": {
     "outputs_hidden": false
    }
   },
   "outputs": [],
   "source": [
    "['Hey'] * 5"
   ]
  },
  {
   "cell_type": "markdown",
   "metadata": {},
   "source": [
    "We can also use `in` / `not in` with lists.\n",
    "\n",
    "また、リストで `in` / `not in` を使用することもできます。"
   ]
  },
  {
   "cell_type": "markdown",
   "metadata": {},
   "source": [
    ">Check if `10` is in `list_greeting`.\n",
    "\n",
    ">10が list_greeting 内に含まれているかどうかを確認してみましょう。"
   ]
  },
  {
   "cell_type": "code",
   "execution_count": null,
   "metadata": {
    "jupyter": {
     "outputs_hidden": false
    }
   },
   "outputs": [],
   "source": []
  },
  {
   "cell_type": "code",
   "execution_count": null,
   "metadata": {
    "jupyter": {
     "outputs_hidden": false
    }
   },
   "outputs": [],
   "source": [
    "# %load ../solutions/01_28.py"
   ]
  },
  {
   "cell_type": "markdown",
   "metadata": {},
   "source": [
    ">Check if 'Ole' is not in list_greeting.\n",
    "\n",
    ">'Ole' が list_greeting 内に含まれていないかどうかを確認してみましょう。"
   ]
  },
  {
   "cell_type": "code",
   "execution_count": null,
   "metadata": {
    "jupyter": {
     "outputs_hidden": false
    }
   },
   "outputs": [],
   "source": []
  },
  {
   "cell_type": "code",
   "execution_count": null,
   "metadata": {
    "jupyter": {
     "outputs_hidden": false
    }
   },
   "outputs": [],
   "source": [
    "# %load ../solutions/01_29.py"
   ]
  }
 ],
 "metadata": {
  "kernelspec": {
   "display_name": "Python (beginners-data-workshop)",
   "language": "python",
   "name": "beginners-data-workshop"
  },
  "language_info": {
   "codemirror_mode": {
    "name": "ipython",
    "version": 3
   },
   "file_extension": ".py",
   "mimetype": "text/x-python",
   "name": "python",
   "nbconvert_exporter": "python",
   "pygments_lexer": "ipython3",
   "version": "3.9.13"
  }
 },
 "nbformat": 4,
 "nbformat_minor": 4
}
