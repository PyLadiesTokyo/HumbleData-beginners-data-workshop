{
 "cells": [
  {
   "cell_type": "markdown",
   "metadata": {},
   "source": [
    "### Histogram exercise: plot on Body Mass  \n",
    "### ヒストグラムの練習: ペンギンの体重のプロット\n",
    "\n",
    "Now is your turn to make your own plot. Make sure you set the alpha to a proper value and have the right the labels and legend.  \n",
    "さあ、次はあなた自身がプロットを作る番です。アルファを適切な値に設定し、ラベルと凡例を正しく設定してください。"
   ]
  },
  {
   "cell_type": "code",
   "execution_count": null,
   "metadata": {
    "jupyter": {
     "outputs_hidden": false
    }
   },
   "outputs": [],
   "source": []
  },
  {
   "cell_type": "markdown",
   "metadata": {},
   "source": [
    "### Making subplots example  \n",
    "### サブプロットの作成例\n",
    "\n",
    "To make subplots with just `plt` is a bit more complicated. It is considered more advance and require some understanding of what the building blocks are in a plot. Don't feel bad if you find it challenging, you can always follow the example and try it yourself to understand more what is going on.  \n",
    "`plt`だけでサブプロットを作るのは少し複雑です。より高度で、プロットの構成要素が何であるかを理解する必要があります。難しいと感じる人が多い内容なので、もし難しく感じても気に病む必要はありません。\n",
    "\n",
    "The example below plot the histogram of Bill Length and Bill Width side by side  \n",
    "以下の例は、嘴の長さと嘴の幅のヒストグラムを並べてプロットしたものです。"
   ]
  },
  {
   "cell_type": "code",
   "execution_count": null,
   "metadata": {
    "jupyter": {
     "outputs_hidden": false
    }
   },
   "outputs": [],
   "source": [
    "# First, we have to decide how many subplots we want and how they are orientated\n",
    "# say we want them side by side (i.e. 1 row 2 columns)\n",
    "# まず、サブプロットの数と向きを決める必要があります。\n",
    "# 横並びにしたい場合(1行2列)\n",
    "\n",
    "fig, (ax0, ax1) = plt.subplots(nrows=1, ncols=2, figsize=(15,8))\n",
    "\n",
    "# this will create a figure object (which is the whole plot area)\n",
    "# and 2 axes (which are the 2 subplots labeled ax0 and ax1)\n",
    "# これはプロット領域全体を作成します。\n",
    "# 2つの軸（ax0とax1とラベル付けされた2つのサブプロット）が作成されます。\n",
    "\n",
    "# Now we can put plots in them accordingly\n",
    "# これで、プロットを配置することができます。\n",
    "\n",
    "### for ax0 ###\n",
    "### ax0の場合 ###\n",
    "\n",
    "ax0.hist(df_adelie['bill_length_mm'], color='r', alpha=.5) \n",
    "ax0.hist(df_chinstrap['bill_length_mm'], color='g', alpha=.5)\n",
    "ax0.hist(df_gentoo['bill_length_mm'], color='b', alpha=.5)\n",
    "\n",
    "ax0.set_xlabel('Bill Length (mm)')\n",
    "ax0.set_title('Histogram of Bill Length for Different Species of Penguin')\n",
    "\n",
    "ax0.legend(('adelie', 'chinstrap', 'gentoo'))\n",
    "\n",
    "### for ax1 ###\n",
    "### ax1の場合 ###\n",
    "\n",
    "ax1.hist(df_adelie['bill_depth_mm'], color='r', alpha=.5) \n",
    "ax1.hist(df_chinstrap['bill_depth_mm'], color='g', alpha=.5)\n",
    "ax1.hist(df_gentoo['bill_depth_mm'], color='b', alpha=.5)\n",
    "\n",
    "ax1.set_xlabel('Bill Width (mm)')\n",
    "ax1.set_title('Histogram of Bill Width for Different Species of Penguin')\n",
    "\n",
    "ax1.legend(('adelie', 'chinstrap', 'gentoo'))\n",
    "\n",
    "plt.show() # after building what we want for both axes, use show() method to show plots\n",
    "# 両軸に必要なものをビルドした後、show()メソッドを使用してプロットを表示する。"
   ]
  },
  {
   "cell_type": "markdown",
   "metadata": {},
   "source": [
    "---\n",
    "\n",
    "<div class=\"alert alert-block alert-warning\" style=\"padding: 0px; padding-left: 20px; padding-top: 5px;\"><h2 style=\"color: #301E40\">\n",
    "Making subplots exercise\n",
    "</h2><br>\n",
    "</div>"
   ]
  },
  {
   "cell_type": "markdown",
   "metadata": {},
   "source": [
    "Make 2 subplots, one on top of another. They are scatter plots of Flipper Length and Body Mass (with different type of penguin). After you have done it, try also other orientation and plots. See if you can make 4 subplots together. Always make sure the presentation is good.  \n",
    "2つのサブプロットを作成し、一つはもう一方のサブプロットの上に置きます。ひれの長さと体重の散布図です（ペンギンの種類を変えて）。それができたら、他の方向とプロットも試してみましょう。そして、4つの部分プロットを一緒に作れないか試してみてください。常にプレゼンテーションがうまくいくようにしましょう。"
   ]
  },
  {
   "cell_type": "markdown",
   "metadata": {},
   "source": [
    "Check out more example of histogram with multiple data sets: https://matplotlib.org/gallery/statistics/histogram_multihist.html#sphx-glr-gallery-statistics-histogram-multihist-py  \n",
    "複数のデータセットを使ったヒストグラムの例をもっとチェックする: https://matplotlib.org/gallery/statistics/histogram_multihist.html#sphx-glr-gallery-statistics-histogram-multihist-py\n",
    "\n",
    "Example: Creates histogram from scatter plot and adds them to the sides of the plot\n",
    "https://matplotlib.org/gallery/lines_bars_and_markers/scatter_hist.html#sphx-glr-gallery-lines-bars-and-markers-scatter-hist-py  \n",
    "例: 散布図からヒストグラムを作成し、それらをプロットの横に加える方法\n",
    "https://matplotlib.org/gallery/lines_bars_and_markers/scatter_hist.html#sphx-glr-gallery-lines-bars-and-markers-scatter-hist-py\n",
    "\n",
    "There are a lot more to learn about matplotlib. It is a very powerful library. You can always learn more by looking at the examples at: https://matplotlib.org/gallery/index.html  \n",
    "matplotlibについて学ぶことはまだまだたくさんあります。とてもパワフルなライブラリです。以下サンプルを見れば、もっと学ぶことができます： https://matplotlib.org/gallery/index.html\n",
    "\n",
    "Also, if you are stuck, always check the documentation: https://matplotlib.org/api/_as_gen/matplotlib.pyplot.html#module-matplotlib.pyplot  \n",
    "行き詰まったら、ドキュメントをチェックしましょう：https://matplotlib.org/api/_as_gen/matplotlib.pyplot.html#module-matplotlib.pyplot\n",
    "\n",
    "![](https://media0.giphy.com/media/l3nF8lOW9D0ZElDvG/200.gif)"
   ]
  },
  {
   "cell_type": "markdown",
   "metadata": {},
   "source": [
    "---\n",
    "\n",
    "<div class=\"alert alert-block alert-warning\" style=\"padding: 0px; padding-left: 20px; padding-top: 5px;\"><h2 style=\"color: #301E40\">\n",
    "More matplotlib!\n",
    "</h2><br>\n",
    "</div>"
   ]
  }
 ],
 "metadata": {
  "kernelspec": {
   "display_name": "Python 3 (system-wide)",
   "language": "python",
   "name": "python3"
  },
  "language_info": {
   "codemirror_mode": {
    "name": "ipython",
    "version": 3
   },
   "file_extension": ".py",
   "mimetype": "text/x-python",
   "name": "python",
   "nbconvert_exporter": "python",
   "pygments_lexer": "ipython3",
   "version": "3.8.5"
  }
 },
 "nbformat": 4,
 "nbformat_minor": 4
}
