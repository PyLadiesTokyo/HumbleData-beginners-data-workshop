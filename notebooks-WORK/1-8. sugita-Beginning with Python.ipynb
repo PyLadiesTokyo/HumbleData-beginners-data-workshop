{
 "cells": [
  {
   "cell_type": "markdown",
   "metadata": {},
   "source": [
    "---\n",
    "\n",
    "<div class=\"alert alert-block alert-warning\" style=\"padding: 0px; padding-left: 20px; padding-top: 5px;\"><h2 style=\"color: #301E40\">\n",
    "Methods \n",
    "</h2><br>\n",
    "</div>"
   ]
  },
  {
   "cell_type": "markdown",
   "metadata": {},
   "source": [
    "メソッドはオブジェクトに関連付けられた関数です。基本的には、オブジェクトが自分自身に関する情報を知ったり操作したりする方法を提供します。\n",
    "\n",
    "例えば、文字列 s を大文字に変換するには .upper() メソッドを使用できます。"
   ]
  },
  {
   "cell_type": "code",
   "execution_count": null,
   "metadata": {
    "jupyter": {
     "outputs_hidden": false
    }
   },
   "outputs": [],
   "source": [
    "s.upper()"
   ]
  },
  {
   "cell_type": "markdown",
   "metadata": {},
   "source": [
    ">append メソッドを使用して、list_greeting に 'Aloha' を追加してください。"
   ]
  },
  {
   "cell_type": "code",
   "execution_count": null,
   "metadata": {
    "jupyter": {
     "outputs_hidden": false
    }
   },
   "outputs": [],
   "source": []
  },
  {
   "cell_type": "code",
   "execution_count": null,
   "metadata": {
    "jupyter": {
     "outputs_hidden": false
    }
   },
   "outputs": [],
   "source": [
    "# %load ../solutions/01_36.py"
   ]
  },
  {
   "cell_type": "markdown",
   "metadata": {},
   "source": [
    "---\n",
    "\n",
    "<div class=\"alert alert-block alert-warning\" style=\"padding: 0px; padding-left: 20px; padding-top: 5px;\"><h2 style=\"color: #301E40\">\n",
    "Importing modules\n",
    "</h2><br>\n",
    "</div>"
   ]
  },
  {
   "cell_type": "markdown",
   "metadata": {},
   "source": [
    "モジュールをインポートすることができます（Pythonコードで関数、クラス、変数を定義できるものです）。\n",
    "\n",
    "通常、Pythonプログラムやノートブックの冒頭にすべてのインポートを記述します。"
   ]
  },
  {
   "cell_type": "markdown",
   "metadata": {},
   "source": [
    "**mini警告**    \n",
    "インストールするパッケージが信頼できるものであることを確認してください！\n",
    "\n",
    "インストールを行う場合、常に下記の内容を注視するようにしましょう：\n",
    "\n",
    "1. このコードは誰が書いたのか？\n",
    "2. そのコードに自分のコンピュータへのアクセスを許すことができるか？\n",
    "3. 特に `pip install` は少し危険かもしれません。Python Package Index（略して\"PyPI\"）は誰でも何かをアップロードできる場所で、pip はそこからインストールします。したがって、最も小さなタイプミスもセキュリティリスクになる可能性があるため、非常に注意が必要です。\n",
    "4. `conda install` はより閉じられた環境で動作し、したがって企業向けの利用に適しています。\n"
   ]
  },
  {
   "cell_type": "markdown",
   "metadata": {},
   "source": [
    "> math ライブラリから、24と336の平方根を求めるために sqrt をインポートしてください。"
   ]
  },
  {
   "cell_type": "code",
   "execution_count": null,
   "metadata": {
    "jupyter": {
     "outputs_hidden": false
    }
   },
   "outputs": [],
   "source": []
  },
  {
   "cell_type": "code",
   "execution_count": null,
   "metadata": {
    "jupyter": {
     "outputs_hidden": false
    }
   },
   "outputs": [],
   "source": [
    "# %load ../solutions/01_37.py"
   ]
  },
  {
   "cell_type": "markdown",
   "metadata": {},
   "source": [
    "Pythonのプログラマは本当に怠け者です！（もしくは生産性に対する執念深さとも言えるかもしれません）\n",
    "\n",
    "そのため、インポートのためのエイリアス（別名）を定義できます。`as np` は2文字であり、一方 `numpy` は5文字です。長いプログラムを書く際には、入力が少なくて済むので便利です。\n",
    "\n",
    "> numpy を np としてインポートし (import numpy as np)、**`np.sin(np.pi/4)`**` を試してみてください。"
   ]
  },
  {
   "cell_type": "code",
   "execution_count": null,
   "metadata": {
    "jupyter": {
     "outputs_hidden": false
    }
   },
   "outputs": [],
   "source": []
  },
  {
   "cell_type": "code",
   "execution_count": null,
   "metadata": {
    "jupyter": {
     "outputs_hidden": false
    }
   },
   "outputs": [],
   "source": [
    "# %load ../solutions/01_38.py"
   ]
  },
  {
   "cell_type": "markdown",
   "metadata": {},
   "source": [
    "---\n",
    "\n",
    "# 🎉 おめでとうございます、Notebook 1の最後までたどり着きました！ 🎉\n",
    "よくがんばりましたね。ゆっくり休憩をとり、お好きなリラックスドリンクを淹れるか、軽食を取るか、おやつを楽しむか、もしくは #random チャンネルでおやつや飲み物の写真をシェアしてみてください。世界中から参加している皆さんの写真を見るのが楽しみです。☕️\n",
    "\n",
    "![](https://media0.giphy.com/media/3otPoS81loriI9sO8o/200.gif)"
   ]
  }
 ],
 "metadata": {
  "kernelspec": {
   "display_name": "Python (beginners-data-workshop)",
   "language": "python",
   "name": "beginners-data-workshop"
  },
  "language_info": {
   "codemirror_mode": {
    "name": "ipython",
    "version": 3
   },
   "file_extension": ".py",
   "mimetype": "text/x-python",
   "name": "python",
   "nbconvert_exporter": "python",
   "pygments_lexer": "ipython3",
   "version": "3.9.13"
  }
 },
 "nbformat": 4,
 "nbformat_minor": 4
}
