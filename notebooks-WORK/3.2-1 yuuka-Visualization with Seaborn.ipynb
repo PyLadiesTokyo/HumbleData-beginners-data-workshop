{
 "cells": [
  {
   "cell_type": "markdown",
   "metadata": {},
   "source": [
    "<div class=\"alert alert-block alert-info\" style=\"background-color: #301E40; border: 0px; -moz-border-radius: 10px; -webkit-border-radius: 10px;\">\n",
    "<br/><br/>\n",
    "<h1 style=\"font-size: 45px; color: white; align: center;\"><center>\n",
    "<img src=\"https://raw.githubusercontent.com/HumbleData/beginners-data-workshop/master/media/humble-data-logo-white-transparent.png\" width=\"250px\" /><br/><br/>\n",
    "Data visualization with Seaborn\n",
    "</center></h1>\n",
    "</div>"
   ]
  },
  {
   "cell_type": "markdown",
   "metadata": {},
   "source": [
    "## About seaborn\n",
    "Seaborn is a Python data visualization library based on matplotlib. It provides a high-level interface for drawing attractive and informative statistical graphics, which is very powerful for visualizing categorical data.  \n",
    "## seabornについて\n",
    "Seaborn は matplotlib ベースの Python データ可視化ライブラリです。情報量の多い統計グラフィックを描画するための高レベルなインターフェイスを提供し、カテゴリーデータの可視化に威力を発揮します。\n",
    "\n",
    "![](https://d1rwhvwstyk9gu.cloudfront.net/2017/07/seaburn-1.png)"
   ]
  },
  {
   "cell_type": "markdown",
   "metadata": {},
   "source": [
    "We will be using the [Pokemon.csv](https://gist.github.com/armgilles/194bcff35001e7eb53a2a8b441e8b2c6). Let's have a look at the data:  \n",
    "今回は[Pokemon.csv](https://gist.github.com/armgilles/194bcff35001e7eb53a2a8b441e8b2c6)を使用します。データを見てみましょう："
   ]
  },
  {
   "cell_type": "code",
   "execution_count": null,
   "metadata": {
    "jupyter": {
     "outputs_hidden": false
    }
   },
   "outputs": [],
   "source": [
    "import pandas as pd\n",
    "\n",
    "pokemon_df = pd.read_csv('../data/Pokemon/pokemon.csv', index_col=0)\n",
    "pokemon_df.head(10)"
   ]
  },
  {
   "cell_type": "markdown",
   "metadata": {},
   "source": [
    "---\n",
    "\n",
    "<div class=\"alert alert-block alert-warning\" style=\"padding: 0px; padding-left: 20px; padding-top: 5px;\"><h2 style=\"color: #301E40\">\n",
    "Categorical scatterplots\n",
    "</h2><br>\n",
    "</div>"
   ]
  },
  {
   "cell_type": "markdown",
   "metadata": {},
   "source": [
    "For example, we want to compare the Attack of different type of Pokemon, to see if any type is generally more powerful than the others:  \n",
    "異なるタイプのポケモンの攻撃力を比較し、どのタイプが他のタイプよりも一般的に強力かどうかを確認したい場合："
   ]
  },
  {
   "cell_type": "code",
   "execution_count": null,
   "metadata": {
    "jupyter": {
     "outputs_hidden": false
    }
   },
   "outputs": [],
   "source": [
    "import seaborn as sns\n",
    "import matplotlib.pyplot as plt\n",
    "\n",
    "sns.catplot(x=\"Type 1\", y=\"Attack\", data=pokemon_df);"
   ]
  },
  {
   "cell_type": "markdown",
   "metadata": {},
   "source": [
    "When import, we usually simplify 'seaborn' as 'sns'. (It's a [West Wing / Rob Lowe](https://en.wikipedia.org/wiki/Sam_Seaborn) reference!) Note that we have to also have to import matplotlib.pyplot because Seaborn is a library that sit on top of matplotlib. We got a plot but it looks ugly and not readable, let's add some configuration to make it nicer.  \n",
    "importをする際、私たちは通常「seaborn」を「sns」と簡略化します。(これは[West Wing / Rob Lowe](https://en.wikipedia.org/wiki/Sam_Seaborn)の引用です！) Seabornはmatplotlibに依存しているライブラリなので、matplotlib.pyplotもインポートしなければならないことに注意してください。プロットができましたが、読みにくいので、設定を追加して見やすくしましょう。"
   ]
  },
  {
   "cell_type": "markdown",
   "metadata": {},
   "source": [
    "**Try: adding `aspect=2.5` as the last arguments in the following `sns.catplot`**  \n",
    ">以下の `sns.catplot` の最後の引数に `aspect=2.5` を加えてみてください。"
   ]
  },
  {
   "cell_type": "code",
   "execution_count": null,
   "metadata": {
    "jupyter": {
     "outputs_hidden": false
    }
   },
   "outputs": [],
   "source": [
    "sns.catplot(x=\"Type 1\", y=\"Attack\", data=pokemon_df);"
   ]
  },
  {
   "cell_type": "markdown",
   "metadata": {},
   "source": [
    "So you can see that by adding 'aspect' we make the plot wider. The width of the plot is equal to 'aspect * height' so by adding 'aspect' we increase the width of the plot. It is one of the configuration we can add to the plot. For the whole list and their details, we can refer to the [official documentation](https://seaborn.pydata.org/generated/seaborn.catplot.html#seaborn.catplot) but we will give an introduction to a few common ones.  \n",
    "つまり、'aspect' を加えることで、プロットの幅が広くなることがわかります。プロットの幅は'aspect * height'に等しいので、'aspect'を加えることでプロットの幅を広げることができます。これは、プロットに追加できる設定の1つです。すべてのリストとその詳細については、[公式ドキュメント](https://seaborn.pydata.org/generated/seaborn.catplot.html#seaborn.catplot)を参照してください。"
   ]
  },
  {
   "cell_type": "markdown",
   "metadata": {},
   "source": [
    "For example, here we see that there's a random x-axis offset for all the points so we can see them without dots overlapping each other. This is done by the 'jitter' setting which is default to True. Let's turn it off and see how it looks like:  \n",
    "例えば、ここでは、すべてのポイントにランダムなX軸オフセットがあり、ドット同士が重ならないように見ることができます。これは、デフォルトでTrueになっている「jitter」設定によって行われています。これをオフにして、どのように見えるか見てみましょう："
   ]
  },
  {
   "cell_type": "markdown",
   "metadata": {},
   "source": [
    "**Try: adding `jitter=False` as the last arguments in the following `sns.catplot`**  \n",
    ">以下の `sns.catplot` の最後の引数に `jitter=False` を追加してみましょう。"
   ]
  },
  {
   "cell_type": "code",
   "execution_count": null,
   "metadata": {
    "jupyter": {
     "outputs_hidden": false
    }
   },
   "outputs": [],
   "source": [
    "sns.catplot(x=\"Type 1\", y=\"Attack\", data=pokemon_df, aspect=2.5);"
   ]
  },
  {
   "cell_type": "markdown",
   "metadata": {},
   "source": [
    "So we now have a plot that points are align according to their catagories without the x-axis offsets. Which one to use is depending on if the population of the value (e.g. Attack) is important. In our case, we want to know how the Attack is distributed in each Type so many be it's good to have 'jitter' on, or even better if we can spread it out even more and show the distribution:  \n",
    "これで、x軸のオフセットなしで、ポイントがカテゴリーに従って整列するプロットができました。どちらを使うかは、値の母集団（例えば攻撃力）が重要かどうかによります。私たちの場合、攻撃力が各タイプでどのように分布しているかを知りたいので、「jitter」をオンにするのがいいでしょう："
   ]
  },
  {
   "cell_type": "markdown",
   "metadata": {},
   "source": [
    "**Try: adding `kind=\"swarm\"` as the last arguments in the following `sns.catplot`**  \n",
    ">以下の `sns.catplot` の最後の引数に `kind=\"swarm\"` を追加しましょう。"
   ]
  },
  {
   "cell_type": "markdown",
   "metadata": {},
   "source": []
  },
  {
   "cell_type": "code",
   "execution_count": null,
   "metadata": {
    "jupyter": {
     "outputs_hidden": false
    }
   },
   "outputs": [],
   "source": [
    "sns.catplot(x=\"Type 1\", y=\"Attack\", data=pokemon_df, aspect=2.5);"
   ]
  },
  {
   "cell_type": "markdown",
   "metadata": {},
   "source": [
    "Here we can do it by setting 'kind' to 'swarm' so the points are not overlapping. The disadvantage is that this ploy will need more space horizontally. Imagine we don't want to make the plot super wide due to the limitation of the paper. We can turn it 90 degrees by flipping the x and the y,also we would adjust the aspect and the height:  \n",
    "ここでは「kind」を「swarm」に設定することで、ポイントが重ならないようにすることができます。欠点は、この方法だと横方向にスペースが必要になることです。紙面の都合上、プロットを超広幅にしたくない場合はxとyを反転させることで90度回転させることができ、アスペクトと高さを調整することもできます："
   ]
  },
  {
   "cell_type": "markdown",
   "metadata": {},
   "source": [
    "**Try: swap `x` and `y`,  and add `height=12, aspect=0.6, kind=\"swarm\"` in the arguments of the following `sns.catplot`**  \n",
    ">以下の `sns.catplot`の引数の `x` と `y` を入れ替え、`height=12, aspect=0.6, kind=\"swarm\"` を追加しましょう。"
   ]
  },
  {
   "cell_type": "code",
   "execution_count": null,
   "metadata": {
    "jupyter": {
     "outputs_hidden": false
    }
   },
   "outputs": [],
   "source": [
    "sns.catplot(x=\"Type 1\", y=\"Attack\", data=pokemon_df);"
   ]
  },
  {
   "cell_type": "markdown",
   "metadata": {},
   "source": [
    "There are a few thing we can observe so far:\n",
    "\n",
    "1. For some Types, like Psychic has a very large range of Attack with a long tail the end (i.e. some Physic Types has very high Attack power while most of the Psychic type does not).\n",
    "\n",
    "2. On the other hand, the Poison type are mostly in the range of 40-110 Attacks.\n",
    "\n",
    "3. In general Dragon Types have more Attack power than Fairy, but there are 2 Fairy type that has more attack power.  \n",
    "\n",
    "これまでのことから、いくつか分かったことがあります：\n",
    "\n",
    "1. エスパータイプのように、攻撃力の範囲が非常に広く、最後が長いタイプもあります（つまり、一部のエスパータイプは非常に高い攻撃力を持っていますが、ほとんどのエスパータイプはそうありません）。\n",
    "\n",
    "2. 一方、毒タイプの攻撃力は40～110程度です。\n",
    "\n",
    "3. 一般的にドラゴンタイプはフェアリータイプよりも攻撃力が高いですが、フェアリータイプの中にも攻撃力が高いものが2種類存在します。"
   ]
  },
  {
   "cell_type": "markdown",
   "metadata": {},
   "source": [
    "However, we would like to look deeper: I have a theory that Legendary Pokemon are more powerful. let's colour code according to 'Legendary' to see if the pokemon is Legendary or not will have something to do with the Attack of the pokemon:  \n",
    "しかし、もっと深く考えてみたい： 伝説のポケモンはより強力であるという説があります。そのポケモンが伝説のポケモンかどうかは、そのポケモンの「攻撃力」に関係してくるので、「伝説」によって色分けしてみましょう："
   ]
  },
  {
   "cell_type": "markdown",
   "metadata": {},
   "source": [
    "**Try: adding `hue=\"Legendary\"` as the last arguments in the following `sns.catplot`**  \n",
    ">`sns.catplot`の最後の引数に `hue=\"Legendary\"` を追加すしましょう。"
   ]
  },
  {
   "cell_type": "code",
   "execution_count": null,
   "metadata": {
    "jupyter": {
     "outputs_hidden": false
    }
   },
   "outputs": [],
   "source": [
    "plt.figure(figsize=(15, 6))\n",
    "sns.stripplot(x=\"Type 1\", y=\"Attack\", data=pokemon_df, size=7)"
   ]
  },
  {
   "cell_type": "markdown",
   "metadata": {},
   "source": [
    "Ah ha! We see that a lot of the Psychic Type that has higher that others in Attack is actually Legendary pokemon. That also happen to the Ground Type and the Flying type.  \n",
    "エスパータイプの攻撃力が他より高いポケモンの多くが、実は伝説のポケモンであることがわかりました。これは地面タイプや飛行タイプにも当てはまります。"
   ]
  },
  {
   "cell_type": "markdown",
   "metadata": {},
   "source": [
    "### Exercise\n",
    "### 練習問題\n",
    "Now it's your turn to do some analysis. Pick a property of the Pokemon: HP, Defense, Sp. Atk, Sp. Def or Speed and do the similar analysis as above to see if you can find any interesting facts about Pokemon.  \n",
    "さあ、次はあなたが分析する番です。ポケモンの特性を選んでください：「Hp」、「Def」、「Sp. Atk」、「Sp. Def」、「Sp.Atk」、「Sp.Def」、「Speed」の中からポケモンの特性を選び、上記と同様の分析を行い、ポケモンに関する興味深い事実が見つかるかどうかを確認します。"
   ]
  }
 ],
 "metadata": {
  "kernelspec": {
   "display_name": "Python 3 (system-wide)",
   "language": "python",
   "name": "python3"
  },
  "language_info": {
   "codemirror_mode": {
    "name": "ipython",
    "version": 3
   },
   "file_extension": ".py",
   "mimetype": "text/x-python",
   "name": "python",
   "nbconvert_exporter": "python",
   "pygments_lexer": "ipython3",
   "version": "3.8.5"
  }
 },
 "nbformat": 4,
 "nbformat_minor": 4
}
