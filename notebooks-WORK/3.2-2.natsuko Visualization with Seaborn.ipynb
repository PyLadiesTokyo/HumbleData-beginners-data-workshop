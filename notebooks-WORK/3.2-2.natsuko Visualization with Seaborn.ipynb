{
 "cells": [
  {
   "cell_type": "markdown",
   "metadata": {},
   "source": [
    "---\n",
    "\n",
    "<div class=\"alert alert-block alert-warning\" style=\"padding: 0px; padding-left: 20px; padding-top: 5px;\"><h2 style=\"color: #301E40\">\n",
    "Building structured multi-plot grids　<br>\n",
    "複数のデータをプロットする    \n",
    "</h2><br>\n",
    "</div>"
   ]
  },
  {
   "cell_type": "markdown",
   "metadata": {},
   "source": [
    "Sometimes, we would have multiple plots in one graph for comparison. One way to do it in seaborn is to use FacetGrid. The FacetGrid class is useful when you want to visualize the distribution of a variable or the relationship between multiple variables separately within subsets of your dataset. In the following, we will be using FacetGrid to see if there is a difference for our analysis above across different Generations.  \n",
    "比較のために、ひとつのグラフのなかに複数のデータをプロットしたい場合があります。複数のデータをプロットするための手段のひとつが seaborn の FacetGrid です。FacetGrid は 変数の分布や複数の変数の関係性を個別に可視化したい場合に利用できます。以下では、FacetGrid をポケモンが世代ごとに違いがあるかどうかを分析するために利用します。"
   ]
  },
  {
   "cell_type": "markdown",
   "metadata": {},
   "source": [
    "To make a FacetGrid, we can do the following:  \n",
    "FacetGrid を利用するために、下記の条件で変数に代入しておきます。"
   ]
  },
  {
   "cell_type": "code",
   "execution_count": null,
   "metadata": {
    "jupyter": {
     "outputs_hidden": false
    }
   },
   "outputs": [],
   "source": [
    "g = sns.FacetGrid(pokemon_df, col=\"Generation\")"
   ]
  },
  {
   "cell_type": "markdown",
   "metadata": {},
   "source": [
    "Look we have 6 plot areas which match as the number of different of Generations that we have\n",
    "(we can check what are the different Generations like this):  \n",
    "pokemon_df には世代が6つ含まれています。（下記の unique() 関数で世代の数を確認することができます）  "
   ]
  },
  {
   "cell_type": "code",
   "execution_count": null,
   "metadata": {
    "jupyter": {
     "outputs_hidden": false
    }
   },
   "outputs": [],
   "source": [
    "pokemon_df[\"Generation\"].unique()"
   ]
  },
  {
   "cell_type": "markdown",
   "metadata": {},
   "source": [
    "However, we would like to have the plots align vertically rather than horizontally.  \n",
    "しかし、プロットでは水平ではなく垂直に揃えようと思います。"
   ]
  },
  {
   "cell_type": "markdown",
   "metadata": {},
   "source": [
    "**Try: replace `col` with `row` in the following `sns.FacetGrid`**\n",
    "> 下記の `sns.FacetGrid` 関数の `col` を `row` に変更してみましょう。"
   ]
  },
  {
   "cell_type": "code",
   "execution_count": null,
   "metadata": {
    "jupyter": {
     "outputs_hidden": false
    }
   },
   "outputs": [],
   "source": [
    "g = sns.FacetGrid(pokemon_df, col=\"Generation\")"
   ]
  },
  {
   "cell_type": "markdown",
   "metadata": {},
   "source": [
    "Ok, now we have the layout, how we gonna to put the plot in? For some plots, it could be done with the [FacetGrid.map()](https://seaborn.pydata.org/generated/seaborn.FacetGrid.map.html#seaborn.FacetGrid.map) method, for example, using sns.countplot to count how many Pokemon in different types:  \n",
    "レイアウトを決定することができました。では、どのようにデータをプロットしましょう？ [FacetGrid.map()](https://seaborn.pydata.org/generated/seaborn.FacetGrid.map.html#seaborn.FacetGrid.map) という関数でも、sns.countplot という関数を利用してもポケモンのタイプの誓いがいくつあるのかをカウントすることができます。"
   ]
  },
  {
   "cell_type": "code",
   "execution_count": null,
   "metadata": {
    "jupyter": {
     "outputs_hidden": false
    }
   },
   "outputs": [],
   "source": [
    "g = sns.FacetGrid(pokemon_df, row=\"Generation\", aspect=3.5)\n",
    "g.map(sns.countplot, \"Type 1\");"
   ]
  },
  {
   "cell_type": "markdown",
   "metadata": {},
   "source": [
    "But with sns.catplot that we used before, this are even simpler. As catplot is already a FacetGrid , we can directly add the `row` or `col` setting to it.  \n",
    "しかし、前に利用した sns.catplot の方がシンプルに書くことができます。catplot の機能ははすでに FacetGrid にあるので、 `row` もしくは `col`を直接引数に設定していきます。"
   ]
  },
  {
   "cell_type": "markdown",
   "metadata": {},
   "source": [
    "**Try: adding `row=\"Generation\"` as the last arguments in the following `sns.catplot`**\n",
    ">下記の `sns.catplot` の引数に  `row=\"Generation\"` を追加してください。"
   ]
  },
  {
   "cell_type": "code",
   "execution_count": null,
   "metadata": {
    "jupyter": {
     "outputs_hidden": false
    }
   },
   "outputs": [],
   "source": [
    "plt.figure(figsize=(15, 6))\n",
    "sns.stripplot(x=\"Type 1\", y=\"Attack\", data=pokemon_df, size=7, hue=\"Legendary\")"
   ]
  },
  {
   "cell_type": "markdown",
   "metadata": {},
   "source": [
    "Now you see that in each generation, the Legendary Pokemon are outliers with super attack powers comparing with the others within their own generation. For details using FacetGrids, you can see the official documentation here: https://seaborn.pydata.org/tutorial/axis_grids.html  \n",
    "これで、それぞれの世代で伝説のポケモンの super attack power (攻撃力「こうかはばつぐんだ」)が同じ世代の他のポケモンに比べて大きくなっている（外れ値）ことがわかります。FacetGrids の詳しい説明については、seaborn の公式ドキュメントをご確認ください。: https://seaborn.pydata.org/tutorial/axis_grids.html  "
   ]
  }
 ],
 "metadata": {
  "kernelspec": {
   "display_name": "Python 3",
   "language": "python",
   "name": "python3"
  },
  "language_info": {
   "codemirror_mode": {
    "name": "ipython",
    "version": 3
   },
   "file_extension": ".py",
   "mimetype": "text/x-python",
   "name": "python",
   "nbconvert_exporter": "python",
   "pygments_lexer": "ipython3",
   "version": "3.7.5"
  }
 },
 "nbformat": 4,
 "nbformat_minor": 4
}
