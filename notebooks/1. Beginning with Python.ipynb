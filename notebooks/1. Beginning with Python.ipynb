{
 "cells": [
  {
   "cell_type": "markdown",
   "metadata": {},
   "source": [
    "<div class=\"alert alert-block alert-info\" style=\"background-color: #301E40; border: 0px; -moz-border-radius: 10px; -webkit-border-radius: 10px;\">\n",
    "<br/><br/>\n",
    "<h1 style=\"font-size: 45px; color: white; align: center;\"><center>\n",
    "<img src=\"https://raw.githubusercontent.com/HumbleData/beginners-data-workshop/master/media/humble-data-logo-white-transparent.png\" width=\"250px\" /><br/><br/>\n",
    "Introduction to Python\n",
    "</center></h1>\n",
    "</div>"
   ]
  },
  {
   "cell_type": "markdown",
   "metadata": {},
   "source": [
    "Humble Data\n",
    "Python の紹介"
   ]
  },
  {
   "cell_type": "markdown",
   "metadata": {},
   "source": [
    "## Pythonの世界へようこそ！\n",
    "\n",
    "このノートブックには、コードとテキストの両方が記載されています。コードを実行したり、コメントを残したりできます。各セルを個別に実行できるので、少しずつコードを追加しながら実装していけます。セルを実行したい場合は、セルをハイライトした状態で上の\"►\"ボタンをクリックします。または、 **Shift + Enter** をセルを選択した状態で入力すると、セルを実行し、さらに次のセルを作成します。\n",
    "\n",
    "Pythonのさまざまな側面をインタラクティブに説明していきます。自分のペースで試してください。また、遠慮なく質問したり、ググったりしてください。最初の課題は、他のプログラマーが共有するドキュメントや情報を利用することです。Jupyterの別の機能を紹介します。 `print()` のような関数呼び出しの括弧の中にカーソルを置いて、　**Shift + Tab**　を入力できます。これにより、関数のドキュメントをノートブックで直接みられます。（*上級者向けTIP*: 4回までは異なる結果が表示されます）。\n",
    "\n",
    "Pythonそのものについて紹介します。Pythonの大きな強みの1つは拡張性です。Pythonには、多くの機能が最初から内包されています。また、他の人がライブラリとして公開している任意のコードを「インポート（取り込む）」できます。\n",
    "\n",
    "まず最初に、あなたのプログラミングの旅の指針となる「Pythonの禅」を示す特別なインポートを紹介します。"
   ]
  },
  {
   "cell_type": "code",
   "execution_count": null,
   "metadata": {
    "jupyter": {
     "outputs_hidden": false
    }
   },
   "outputs": [],
   "source": [
    "# We can use comments to document our code in a coding cell.\n",
    "import this  # Zen of Python"
   ]
  },
  {
   "cell_type": "markdown",
   "metadata": {},
   "source": [
    "**--> Simple is better than complex.**    \n",
    "**(複雑より単純がいい。)**\n",
    "\n",
    "Pythonで ***Hello World*** を表示するのはとても簡単です。"
   ]
  },
  {
   "cell_type": "code",
   "execution_count": null,
   "metadata": {
    "jupyter": {
     "outputs_hidden": false
    }
   },
   "outputs": [],
   "source": [
    "print('Hello World!')"
   ]
  },
  {
   "cell_type": "markdown",
   "metadata": {},
   "source": [
    "**PEP 8** は、Pythonのスタイルガイドです。詳しくは以下にあります。\n",
    "https://peps.python.org/pep-0008/ （英語のページです）\n",
    "\n",
    "余談ですが、自分のコードがPEP 8に準拠しているか確認するための \"linter\" と呼ばれる静的解析ツールがあります。"
   ]
  },
  {
   "cell_type": "markdown",
   "metadata": {},
   "source": [
    "<div class=\"alert alert-block alert-warning\" style=\"padding: 0px; padding-left: 20px; padding-top: 5px;\"><h2 style=\"color: #301E40\">\n",
    "Variables\n",
    "</h2><br>\n",
    "</div>"
   ]
  },
  {
   "cell_type": "markdown",
   "metadata": {},
   "source": [
    "プログラミングでは、値を保存することが非常に役立ちます。名前を介して値にアクセスすることを変数と呼びます。Pythonは非常にユーザーフレンドリーで、ほとんどのものを明示的にコンピュータの領域にスペースを確保せずに変数に保存できます。さらに、コンピュータはデータの種類を区別する必要があります。例えば、5は整数であり、'Hello'は文字列ですが、Pythonはこれらを直感的に扱おうとします。次のセクションで異なるデータ型について学びます！\n",
    "    \n",
    "**Pythonはオブジェクト指向プログラミング言語です。Pythonでは、変数を使用する前に変数（またはその型）を宣言する必要はありません。なぜなら、Pythonのすべての変数はオブジェクトだからです。**"
   ]
  },
  {
   "cell_type": "code",
   "execution_count": null,
   "metadata": {
    "jupyter": {
     "outputs_hidden": false
    }
   },
   "outputs": [],
   "source": [
    "name = 'Sandrine'"
   ]
  },
  {
   "cell_type": "code",
   "execution_count": null,
   "metadata": {
    "jupyter": {
     "outputs_hidden": false
    }
   },
   "outputs": [],
   "source": [
    "print(name)"
   ]
  },
  {
   "cell_type": "markdown",
   "metadata": {},
   "source": [
    "さらに、変数は簡単に更新できます。以下で試してみてください！\n",
    "\n"
   ]
  },
  {
   "cell_type": "markdown",
   "metadata": {},
   "source": [
    "---\n",
    "\n",
    "注意: このノートブックには1つの解答を含むセルが含まれています。プログラミングの問題には複数の解決策が存在することを覚えておいてください！\n",
    "これらのセルは、次のように始まることで認識できます。\n",
    "```\n",
    "# %\n",
    "```\n",
    "\n",
    "If you would like to see the solution, you will have to remove the `#` using **Ctrl + /** (Windows) or **Cmd + /** (macOS) and then run the cell. If you want to run the solution code, you will have to run the cell again.\n",
    "\n",
    "解答を表示したい場合、#を削除する必要があります。これは Ctrl + /（Windows）または Cmd + /（macOS）を使用して行います。その後、セルを実行します。解答コードを実行したい場合は、セルを再度実行する必要があります。\n",
    "\n",
    "\n",
    "---"
   ]
  },
  {
   "cell_type": "markdown",
   "metadata": {},
   "source": [
    ">変数 'name' に別の文字列を割り当てて、この変数を表示してください。"
   ]
  },
  {
   "cell_type": "code",
   "execution_count": null,
   "metadata": {
    "jupyter": {
     "outputs_hidden": false
    }
   },
   "outputs": [],
   "source": []
  },
  {
   "cell_type": "code",
   "execution_count": null,
   "metadata": {
    "jupyter": {
     "outputs_hidden": false
    }
   },
   "outputs": [],
   "source": [
    "# %load ../solutions/01_01.py"
   ]
  },
  {
   "cell_type": "markdown",
   "metadata": {},
   "source": [
    "**!!!変数は再度割り当てられるときに型が変わることがあります。**"
   ]
  },
  {
   "cell_type": "markdown",
   "metadata": {},
   "source": [
    ">変数 'name' に数値（引用符なし）を割り当てて、この変数を表示してください。"
   ]
  },
  {
   "cell_type": "code",
   "execution_count": null,
   "metadata": {
    "jupyter": {
     "outputs_hidden": false
    }
   },
   "outputs": [],
   "source": []
  },
  {
   "cell_type": "code",
   "execution_count": null,
   "metadata": {
    "jupyter": {
     "outputs_hidden": false
    }
   },
   "outputs": [],
   "source": [
    "# %load ../solutions/01_02.py"
   ]
  },
  {
   "cell_type": "markdown",
   "metadata": {},
   "source": [
    "---"
   ]
  },
  {
   "cell_type": "markdown",
   "metadata": {},
   "source": [
    "<div class=\"alert alert-block alert-warning\" style=\"padding: 0px; padding-left: 20px; padding-top: 5px;\"><h2 style=\"color: #301E40\">\n",
    "Strings\n",
    "</h2><br>\n",
    "</div>"
   ]
  },
  {
   "cell_type": "markdown",
   "metadata": {},
   "source": [
    "文字列は常にシングルクォーテーション（'）またはダブルクォーテーション （\"）で囲われます。シングルクォーテーション（'）で囲うか、ダブルクォーテーション （\"）で囲うかについて、文字列の中にアポストロフィ ( ' ) がある場合を除き、違いはありません。"
   ]
  },
  {
   "cell_type": "code",
   "execution_count": null,
   "metadata": {
    "jupyter": {
     "outputs_hidden": false
    }
   },
   "outputs": [],
   "source": [
    "'Beginners Data Workshop'"
   ]
  },
  {
   "cell_type": "code",
   "execution_count": null,
   "metadata": {
    "jupyter": {
     "outputs_hidden": false
    }
   },
   "outputs": [],
   "source": [
    "\"Beginner's Data Workshop\""
   ]
  },
  {
   "cell_type": "markdown",
   "metadata": {},
   "source": [
    ">「I'm enjoying this workshop!」をダブルクォーテーションで囲んで書いてみましょう。その次にシングルクォーテーションで囲んで書いてみましょう。"
   ]
  },
  {
   "cell_type": "code",
   "execution_count": null,
   "metadata": {
    "jupyter": {
     "outputs_hidden": false
    }
   },
   "outputs": [],
   "source": [
    "# double quotes\n"
   ]
  },
  {
   "cell_type": "code",
   "execution_count": null,
   "metadata": {
    "jupyter": {
     "outputs_hidden": false
    }
   },
   "outputs": [],
   "source": []
  },
  {
   "cell_type": "code",
   "execution_count": null,
   "metadata": {
    "jupyter": {
     "outputs_hidden": false
    }
   },
   "outputs": [],
   "source": [
    "# %load ../solutions/01_03.py"
   ]
  },
  {
   "cell_type": "code",
   "execution_count": null,
   "metadata": {
    "jupyter": {
     "outputs_hidden": false
    }
   },
   "outputs": [],
   "source": [
    "# single quotes\n"
   ]
  },
  {
   "cell_type": "code",
   "execution_count": null,
   "metadata": {
    "jupyter": {
     "outputs_hidden": false
    }
   },
   "outputs": [],
   "source": [
    "# %load ../solutions/01_04.py"
   ]
  },
  {
   "cell_type": "markdown",
   "metadata": {},
   "source": [
    "**ああ、エラーだ！**     \n",
    "エラーを恐れることはありません。\n",
    "エラーは、何が間違っているのかを理解する手助けをしてくれる親切なメッセージだと思ってください。\n",
    "エラーの読み方はこうです：\n",
    "- エラーは逆から読むので、一番下から読んでください！これは \"SyntaxError \"で、Pythonのコードに何か問題があることを意味します。\n",
    "- 何が間違っているのかを示す小さな矢印`^`があります。I'm` の m の近くに何かあるようです。\n",
    "- 一番上の行には、エラーが「2行目」にあったと書かれています。この行数の表示は、壊れたコードを修正（または \"デバッグ\"）しようとするときに役に立ちます。\n",
    "\n",
    "**一重引用符の中に一重引用符を使いたい場合は、引用符をバックスラッシュ(\\\\)で「エスケープ」する必要があることがわかりました。**\n",
    "    \n",
    ">やってみましょう！"
   ]
  },
  {
   "cell_type": "code",
   "execution_count": null,
   "metadata": {
    "jupyter": {
     "outputs_hidden": false
    }
   },
   "outputs": [],
   "source": [
    "# single quotes, second try\n"
   ]
  },
  {
   "cell_type": "code",
   "execution_count": null,
   "metadata": {
    "jupyter": {
     "outputs_hidden": false
    }
   },
   "outputs": [],
   "source": [
    "# %load ../solutions/01_05.py"
   ]
  },
  {
   "cell_type": "markdown",
   "metadata": {},
   "source": [
    "前述したように、Pythonはあらゆるものをできるだけ直感的に扱おうとしています。つまり、文字列を足し合わせることができます。"
   ]
  },
  {
   "cell_type": "code",
   "execution_count": null,
   "metadata": {
    "jupyter": {
     "outputs_hidden": false
    }
   },
   "outputs": [],
   "source": [
    "'We are ' + 'everywhere around the world.'"
   ]
  },
  {
   "cell_type": "markdown",
   "metadata": {},
   "source": [
    "また、文字列は数字と掛け合わせることもできます。"
   ]
  },
  {
   "cell_type": "code",
   "execution_count": null,
   "metadata": {
    "jupyter": {
     "outputs_hidden": false
    }
   },
   "outputs": [],
   "source": [
    "'Great! 🎉' * 3"
   ]
  },
  {
   "cell_type": "code",
   "execution_count": null,
   "metadata": {
    "jupyter": {
     "outputs_hidden": false
    }
   },
   "outputs": [],
   "source": [
    "'😂' * 50"
   ]
  },
  {
   "cell_type": "markdown",
   "metadata": {},
   "source": [
    "文字列をスライスすることで、文字列の一部にアクセスできます。文字列の1文字（Pythonでは長さ1の文字列とみなされる）は「スライス」で、部分文字列は「スライス レンジ」でアクセスできます。注意すべき点があります：\n",
    "\n",
    "**!!! 年齢と同じように、Pythonも0から数え始めます！(「ゼロインデックス」です)** \n",
    "\n",
    "(0から数え始める理由に興味がある方は、以下の記事をどうぞ。[letter from Dijkstra](https://www.cs.utexas.edu/users/EWD/transcriptions/EWD08xx/EWD831.html))"
   ]
  },
  {
   "attachments": {
    "image.png": {
     "image/png": "[encoded data removed]"
    }
   },
   "cell_type": "markdown",
   "metadata": {},
   "source": [
    "![image.png](attachment:image.png)"
   ]
  },
  {
   "cell_type": "code",
   "execution_count": null,
   "metadata": {
    "jupyter": {
     "outputs_hidden": false
    }
   },
   "outputs": [],
   "source": [
    "s = 'I am a Pythonista.'"
   ]
  },
  {
   "cell_type": "markdown",
   "metadata": {},
   "source": [
    "***スライス***  \n",
    "角括弧内の位置（「インデックス」）番号を参照することで、文字列の文字にアクセスできます。"
   ]
  },
  {
   "cell_type": "code",
   "execution_count": null,
   "metadata": {
    "jupyter": {
     "outputs_hidden": false
    }
   },
   "outputs": [],
   "source": [
    "# Selecting the first character of the string s\n",
    "s[0]"
   ]
  },
  {
   "cell_type": "markdown",
   "metadata": {},
   "source": [
    "> 文字列sの最後の文字を選択します。"
   ]
  },
  {
   "cell_type": "code",
   "execution_count": null,
   "metadata": {
    "jupyter": {
     "outputs_hidden": false
    }
   },
   "outputs": [],
   "source": []
  },
  {
   "cell_type": "code",
   "execution_count": null,
   "metadata": {
    "jupyter": {
     "outputs_hidden": false
    }
   },
   "outputs": [],
   "source": [
    "# %load ../solutions/01_06.py"
   ]
  },
  {
   "cell_type": "markdown",
   "metadata": {},
   "source": [
    "***スライス レンジ***  \n",
    "スライス レンジを使用すれば、文字列の文字範囲を取得することができます。"
   ]
  },
  {
   "cell_type": "code",
   "execution_count": null,
   "metadata": {
    "jupyter": {
     "outputs_hidden": false
    }
   },
   "outputs": [],
   "source": [
    "# Select from position 2 up to but not including position 6 of the string s\n",
    "s[2:6]  # 6 is excluded"
   ]
  },
  {
   "cell_type": "markdown",
   "metadata": {},
   "source": [
    "開始(または終了)番号 は省略できます。例えば、`s[2:]` や `s[:6]` のように書くことができます。開始番号を省略した場合、インデックスは0から始まります（または、最も大きいインデックスで終わります）。"
   ]
  },
  {
   "cell_type": "markdown",
   "metadata": {},
   "source": [
    ">文字列 s の最後の3文字を選択します。"
   ]
  },
  {
   "cell_type": "code",
   "execution_count": null,
   "metadata": {
    "jupyter": {
     "outputs_hidden": false
    }
   },
   "outputs": [],
   "source": []
  },
  {
   "cell_type": "code",
   "execution_count": null,
   "metadata": {
    "jupyter": {
     "outputs_hidden": false
    }
   },
   "outputs": [],
   "source": [
    "# %load ../solutions/01_07.py"
   ]
  },
  {
   "cell_type": "markdown",
   "metadata": {},
   "source": [
    "ある文字列の中に別の文字列が含まれているかどうか（「部分文字列」）を調べるには、*in*と*not in*を使います。\n",
    "\n",
    "**!!! Python は大文字と小文字を区別します！文字列 `'a'` は `'A'` と等しくありません。**"
   ]
  },
  {
   "cell_type": "code",
   "execution_count": null,
   "metadata": {
    "jupyter": {
     "outputs_hidden": false
    }
   },
   "outputs": [],
   "source": [
    "# Checking if s contains 'python'\n",
    "print(s)\n",
    "'python' in s"
   ]
  },
  {
   "cell_type": "markdown",
   "metadata": {},
   "source": [
    "> sに'I'（大文字のi）が含まれないかチェックします。"
   ]
  },
  {
   "cell_type": "code",
   "execution_count": null,
   "metadata": {
    "jupyter": {
     "outputs_hidden": false
    }
   },
   "outputs": [],
   "source": []
  },
  {
   "cell_type": "code",
   "execution_count": null,
   "metadata": {
    "jupyter": {
     "outputs_hidden": false
    }
   },
   "outputs": [],
   "source": [
    "# %load ../solutions/01_08.py"
   ]
  },
  {
   "cell_type": "markdown",
   "metadata": {},
   "source": [
    "---\n",
    "\n",
    "<div class=\"alert alert-block alert-warning\" style=\"padding: 0px; padding-left: 20px; padding-top: 5px;\"><h2 style=\"color: #301E40\">\n",
    "Numbers\n",
    "</h2><br>\n",
    "</div>"
   ]
  },
  {
   "cell_type": "markdown",
   "metadata": {},
   "source": [
    "Pythonには様々な数の分類があります。そのうち特によく使われるのが以下の２つです。：\n",
    "- **整数:**  整数とは、 少数のつかない数のことです。　例）　`1`,　`2`,　`-5` など。\n",
    "- **浮動小数点:** \"浮動小数点\"という数の型は、小数点のつく数のことです。　例）　`3.14158`,　`2.5`,　`0.1`,　`3.0` など。\n",
    "Pythonは、整数と浮動小数点が混在していても、これらの数値を利用することが可能です。"
   ]
  },
  {
   "cell_type": "markdown",
   "metadata": {},
   "source": [
    "### 基本演算"
   ]
  },
  {
   "cell_type": "markdown",
   "metadata": {},
   "source": [
    "**足し算:**  \n",
    ">２つの数を足してみましょう。"
   ]
  },
  {
   "cell_type": "code",
   "execution_count": null,
   "metadata": {
    "jupyter": {
     "outputs_hidden": false
    }
   },
   "outputs": [],
   "source": []
  },
  {
   "cell_type": "code",
   "execution_count": null,
   "metadata": {
    "jupyter": {
     "outputs_hidden": false
    }
   },
   "outputs": [],
   "source": [
    "# %load ../solutions/01_09.py"
   ]
  },
  {
   "cell_type": "markdown",
   "metadata": {},
   "source": [
    "**引き算:**\n",
    "> ２つの数で引き算をしてみましょう。"
   ]
  },
  {
   "cell_type": "code",
   "execution_count": null,
   "metadata": {
    "jupyter": {
     "outputs_hidden": false
    }
   },
   "outputs": [],
   "source": []
  },
  {
   "cell_type": "code",
   "execution_count": null,
   "metadata": {
    "jupyter": {
     "outputs_hidden": false
    }
   },
   "outputs": [],
   "source": [
    "# %load ../solutions/01_10.py"
   ]
  },
  {
   "cell_type": "markdown",
   "metadata": {},
   "source": [
    "**掛け算:**  \n",
    "掛け算を表す記号は、 `*` です。\n",
    ">２つの数を掛けてみましょう。"
   ]
  },
  {
   "cell_type": "code",
   "execution_count": null,
   "metadata": {
    "jupyter": {
     "outputs_hidden": false
    }
   },
   "outputs": [],
   "source": []
  },
  {
   "cell_type": "code",
   "execution_count": null,
   "metadata": {
    "jupyter": {
     "outputs_hidden": false
    }
   },
   "outputs": [],
   "source": [
    "# %load ../solutions/01_11.py"
   ]
  },
  {
   "cell_type": "markdown",
   "metadata": {},
   "source": [
    "**べき乗:**  \n",
    "べき乗を表す記号は、 `**`です。\n",
    "> 整数を使って、べき乗してみましょう。"
   ]
  },
  {
   "cell_type": "code",
   "execution_count": null,
   "metadata": {
    "jupyter": {
     "outputs_hidden": false
    }
   },
   "outputs": [],
   "source": []
  },
  {
   "cell_type": "code",
   "execution_count": null,
   "metadata": {
    "jupyter": {
     "outputs_hidden": false
    }
   },
   "outputs": [],
   "source": [
    "# %load ../solutions/01_12.py"
   ]
  },
  {
   "cell_type": "markdown",
   "metadata": {},
   "source": [
    ">浮動小数点数を使って、べき乗してみましょう。"
   ]
  },
  {
   "cell_type": "code",
   "execution_count": null,
   "metadata": {
    "jupyter": {
     "outputs_hidden": false
    }
   },
   "outputs": [],
   "source": []
  },
  {
   "cell_type": "code",
   "execution_count": null,
   "metadata": {
    "jupyter": {
     "outputs_hidden": false
    }
   },
   "outputs": [],
   "source": [
    "# %load ../solutions/01_13.py"
   ]
  },
  {
   "cell_type": "markdown",
   "metadata": {},
   "source": [
    ">浮動小数点数で書かれた整数を、べき乗してみましょう。例）12.0"
   ]
  },
  {
   "cell_type": "code",
   "execution_count": null,
   "metadata": {
    "jupyter": {
     "outputs_hidden": false
    }
   },
   "outputs": [],
   "source": []
  },
  {
   "cell_type": "code",
   "execution_count": null,
   "metadata": {
    "jupyter": {
     "outputs_hidden": false
    }
   },
   "outputs": [],
   "source": [
    "# %load ../solutions/01_14.py"
   ]
  },
  {
   "cell_type": "markdown",
   "metadata": {},
   "source": [
    "**割り算と余剰**\n",
    "- 割り算は記号で、 **`/`**　と表します。\n",
    "- 切り捨て除算は記号で、 **`//`**　と表します。 割り算の商のみを戻し小数点以下を切り捨てる、つまりある数字がもう一方の何倍かを表す値を戻します。  \n",
    "  - 例）「6人座れるテーブルがあります。99人の客が来るとすると、テーブルはいくつ必要になるでしょうか？」\n",
    "- 余剰は記号で、 **`%`** と表し、[余剰](https://w.wiki/7dF3)とは、割り算の余りを戻します。"
   ]
  },
  {
   "cell_type": "markdown",
   "metadata": {},
   "source": [
    ">６を２で割ってみましょう。"
   ]
  },
  {
   "cell_type": "code",
   "execution_count": null,
   "metadata": {
    "jupyter": {
     "outputs_hidden": false
    }
   },
   "outputs": [],
   "source": []
  },
  {
   "cell_type": "code",
   "execution_count": null,
   "metadata": {
    "jupyter": {
     "outputs_hidden": false
    }
   },
   "outputs": [],
   "source": [
    "# %load ../solutions/01_15.py"
   ]
  },
  {
   "cell_type": "markdown",
   "metadata": {},
   "source": [
    ">６を２で切り捨て除算してみましょう。"
   ]
  },
  {
   "cell_type": "code",
   "execution_count": null,
   "metadata": {
    "jupyter": {
     "outputs_hidden": false
    }
   },
   "outputs": [],
   "source": []
  },
  {
   "cell_type": "code",
   "execution_count": null,
   "metadata": {
    "jupyter": {
     "outputs_hidden": false
    }
   },
   "outputs": [],
   "source": [
    "# %load ../solutions/01_16.py"
   ]
  },
  {
   "cell_type": "markdown",
   "metadata": {},
   "source": [
    ">19を5で割ってみましょう"
   ]
  },
  {
   "cell_type": "code",
   "execution_count": null,
   "metadata": {
    "jupyter": {
     "outputs_hidden": false
    }
   },
   "outputs": [],
   "source": []
  },
  {
   "cell_type": "code",
   "execution_count": null,
   "metadata": {
    "jupyter": {
     "outputs_hidden": false
    }
   },
   "outputs": [],
   "source": [
    "# %load ../solutions/01_17.py"
   ]
  },
  {
   "cell_type": "markdown",
   "metadata": {},
   "source": [
    "*注釈*: 割り算を使うと、返ってくる値は浮動小数点数になります。"
   ]
  },
  {
   "cell_type": "markdown",
   "metadata": {},
   "source": [
    "**切り捨て除算は、少数以外が整数で戻ります。**  \n",
    "\n",
    ">19を5で切り捨て除算してみましょう。"
   ]
  },
  {
   "cell_type": "code",
   "execution_count": null,
   "metadata": {
    "jupyter": {
     "outputs_hidden": false
    }
   },
   "outputs": [],
   "source": []
  },
  {
   "cell_type": "code",
   "execution_count": null,
   "metadata": {
    "jupyter": {
     "outputs_hidden": false
    }
   },
   "outputs": [],
   "source": [
    "# %load ../solutions/01_18.py"
   ]
  },
  {
   "cell_type": "markdown",
   "metadata": {},
   "source": [
    "\n",
    "**余剰は、割り算の余りを戻します**"
   ]
  },
  {
   "cell_type": "markdown",
   "metadata": {},
   "source": [
    ">19 割る 5 の余りを計算してみましょう。"
   ]
  },
  {
   "cell_type": "code",
   "execution_count": null,
   "metadata": {
    "jupyter": {
     "outputs_hidden": false
    }
   },
   "outputs": [],
   "source": []
  },
  {
   "cell_type": "code",
   "execution_count": null,
   "metadata": {
    "jupyter": {
     "outputs_hidden": false
    }
   },
   "outputs": [],
   "source": [
    "# %load ../solutions/01_19.py"
   ]
  },
  {
   "cell_type": "markdown",
   "metadata": {},
   "source": [
    "**--> 19 = 3 * 5 + 4**"
   ]
  },
  {
   "cell_type": "markdown",
   "metadata": {},
   "source": [
    "---\n",
    "\n",
    "<div class=\"alert alert-block alert-warning\" style=\"padding: 0px; padding-left: 20px; padding-top: 5px;\"><h2 style=\"color: #301E40\">\n",
    "Order of operations\n",
    "</h2><br>\n",
    "</div>"
   ]
  },
  {
   "cell_type": "markdown",
   "metadata": {},
   "source": [
    "Pythonの演算の順序は、通常の数学のルール（括弧→べき乗→除算/乗算→加算/減算）に従います。わかりやすくするために、括弧()を使って何をしようとしているのかを明確にすると良いでしょう。（自分自身にも、あなたのコードを読むかもしれない人にも）"
   ]
  },
  {
   "cell_type": "code",
   "execution_count": null,
   "metadata": {
    "jupyter": {
     "outputs_hidden": false
    }
   },
   "outputs": [],
   "source": [
    "5 + 6 * 10"
   ]
  },
  {
   "cell_type": "code",
   "execution_count": null,
   "metadata": {
    "jupyter": {
     "outputs_hidden": false
    }
   },
   "outputs": [],
   "source": [
    "(5 + 6) * 10"
   ]
  },
  {
   "cell_type": "markdown",
   "metadata": {},
   "source": [
    "---\n",
    "\n",
    "<div class=\"alert alert-block alert-warning\" style=\"padding: 0px; padding-left: 20px; padding-top: 5px;\"><h2 style=\"color: #301E40\">\n",
    "Booleans\n",
    "</h2><br>\n",
    "</div>"
   ]
  },
  {
   "cell_type": "markdown",
   "metadata": {},
   "source": [
    "   ブール値は2つの定数値 `True` と` False` です。Pythonは \"真偽値\"の概念を実装しているので、その数値は1と0です。    \n",
    "    \n",
    "**`==`** は等号演算子で、変数を代入するための代入演算子 **`=`** とは異なります。"
   ]
  },
  {
   "cell_type": "code",
   "execution_count": null,
   "metadata": {
    "jupyter": {
     "outputs_hidden": false
    }
   },
   "outputs": [],
   "source": [
    "True == 1 # '==' は等号演算子であり、代入演算子です。 '=' とは異なります。"
   ]
  },
  {
   "cell_type": "code",
   "execution_count": null,
   "metadata": {
    "jupyter": {
     "outputs_hidden": false
    }
   },
   "outputs": [],
   "source": [
    "False * 3"
   ]
  },
  {
   "cell_type": "markdown",
   "metadata": {},
   "source": [
    " > **`!=`** を使って、Falseが2に等しくないかチェックする。"
   ]
  },
  {
   "cell_type": "code",
   "execution_count": null,
   "metadata": {
    "jupyter": {
     "outputs_hidden": false
    }
   },
   "outputs": [],
   "source": []
  },
  {
   "cell_type": "code",
   "execution_count": null,
   "metadata": {
    "jupyter": {
     "outputs_hidden": false
    }
   },
   "outputs": [],
   "source": [
    "# %load ../solutions/01_20.py"
   ]
  },
  {
   "cell_type": "markdown",
   "metadata": {},
   "source": [
    " > 自分の名前の文字数が8より大きいかどうかチェックします。"
   ]
  },
  {
   "cell_type": "code",
   "execution_count": null,
   "metadata": {
    "jupyter": {
     "outputs_hidden": false
    }
   },
   "outputs": [],
   "source": [
    "len()"
   ]
  },
  {
   "cell_type": "code",
   "execution_count": null,
   "metadata": {
    "jupyter": {
     "outputs_hidden": false
    }
   },
   "outputs": [],
   "source": [
    "# %load ../solutions/01_21.py"
   ]
  },
  {
   "cell_type": "markdown",
   "metadata": {},
   "source": [
    "Pythonではブール演算をするとき `and` や`or` 演算子を使うことができます。これは、Pythonがキーワードを認識するためです。これらは複数の比較を連結するのに使え、数学的論理に従います。   \n",
    "\n",
    "| A     | B     | A and B | A or B |\n",
    "| :---  | :---  | :---    | :---   |\n",
    "| True  | True  | True    | True   |\n",
    "| True  | False | False   | True   |\n",
    "| False | True  | False   | True   |\n",
    "| False | False | False   | False  |\n",
    " \n",
    "> 自分の名前の文字数が5以上、メンターの名前の文字数が7未満であることを確認します。"
   ]
  },
  {
   "cell_type": "code",
   "execution_count": null,
   "metadata": {
    "jupyter": {
     "outputs_hidden": false
    }
   },
   "outputs": [],
   "source": []
  },
  {
   "cell_type": "code",
   "execution_count": null,
   "metadata": {
    "jupyter": {
     "outputs_hidden": false
    }
   },
   "outputs": [],
   "source": [
    "# %load ../solutions/01_22.py"
   ]
  },
  {
   "cell_type": "markdown",
   "metadata": {},
   "source": [
    "---\n",
    "\n",
    "<div class=\"alert alert-block alert-warning\" style=\"padding: 0px; padding-left: 20px; padding-top: 5px;\"><h2 style=\"color: #301E40\">\n",
    "Lists\n",
    "</h2><br>\n",
    "</div>"
   ]
  },
  {
   "cell_type": "markdown",
   "metadata": {},
   "source": [
    "List型はカンマで区切られた値たちを角カッコ　`[ ]` でくくります。\n",
    "  \n",
    "リストの中に入れる値は様々な型を入れることができます。"
   ]
  },
  {
   "cell_type": "code",
   "execution_count": null,
   "metadata": {
    "jupyter": {
     "outputs_hidden": false
    }
   },
   "outputs": [],
   "source": [
    "list_greeting = ['Hallo', 'Bonjour', 10, 'Hello', 'Ciao', False]"
   ]
  },
  {
   "cell_type": "markdown",
   "metadata": {},
   "source": [
    " リストの中の特定の値にアクセスしたい場合、\"スライス\"という記法を使って値を取得することができます。また、リストの中の複数の値を取得したい場合は、「スライス レンジ」という記法で取得することが可能です。この記法については、前項で出てきた「文字列のスライス」のセクションを確認してください。"
   ]
  },
  {
   "cell_type": "markdown",
   "metadata": {},
   "source": [
    " >リストの最初の値を取得してみましょう。"
   ]
  },
  {
   "cell_type": "code",
   "execution_count": null,
   "metadata": {
    "jupyter": {
     "outputs_hidden": false
    }
   },
   "outputs": [],
   "source": []
  },
  {
   "cell_type": "code",
   "execution_count": null,
   "metadata": {
    "jupyter": {
     "outputs_hidden": false
    }
   },
   "outputs": [],
   "source": [
    "# %load ../solutions/01_23.py"
   ]
  },
  {
   "cell_type": "markdown",
   "metadata": {},
   "source": [
    "リストの中から4番目以降に入っている値すべてを取得してみましょう。\n",
    "  \n",
    "Note: リストの最後の値までを取得したい場合はコロンの後に数字を入れる必要はありません。"
   ]
  },
  {
   "cell_type": "markdown",
   "metadata": {},
   "source": [
    "  >リストのインデックス3の値から最後の値までを取得してみましょう。"
   ]
  },
  {
   "cell_type": "code",
   "execution_count": null,
   "metadata": {
    "jupyter": {
     "outputs_hidden": false
    }
   },
   "outputs": [],
   "source": []
  },
  {
   "cell_type": "code",
   "execution_count": null,
   "metadata": {
    "jupyter": {
     "outputs_hidden": false
    }
   },
   "outputs": [],
   "source": [
    "# %load ../solutions/01_24.py"
   ]
  },
  {
   "cell_type": "markdown",
   "metadata": {},
   "source": [
    ">リストの先頭からインデックス4までの値を取得してみましょう。(取得される値からインデックス4の値は除外されています)"
   ]
  },
  {
   "cell_type": "code",
   "execution_count": null,
   "metadata": {
    "jupyter": {
     "outputs_hidden": false
    }
   },
   "outputs": [],
   "source": []
  },
  {
   "cell_type": "code",
   "execution_count": null,
   "metadata": {
    "jupyter": {
     "outputs_hidden": false
    }
   },
   "outputs": [],
   "source": [
    "# %load ../solutions/01_25.py"
   ]
  },
  {
   "cell_type": "markdown",
   "metadata": {},
   "source": [
    " **高度なスライス記法では、選択したインデックスの開始位置・終了位置の間でリストのインデックスをどのようにインクリメント（増分）するかを指定することができます。**   \n",
    "  \n",
    "スライス記法は次のように書くことができます。    \n",
    "\n",
    "[開始位置 : 終了位置 : インクリメント設定]    \n",
    "            \n",
    "例えば、リストの3の倍数ごとに値を取得したい場合は、インクリメント設定部分に3と入力します。"
   ]
  },
  {
   "cell_type": "markdown",
   "metadata": {},
   "source": [
    " >list_greetingのリスト全体から1つおきに値を取得してみましょう"
   ]
  },
  {
   "cell_type": "code",
   "execution_count": null,
   "metadata": {
    "jupyter": {
     "outputs_hidden": false
    }
   },
   "outputs": [],
   "source": []
  },
  {
   "cell_type": "code",
   "execution_count": null,
   "metadata": {
    "jupyter": {
     "outputs_hidden": false
    }
   },
   "outputs": [],
   "source": [
    "# %load ../solutions/01_26.py"
   ]
  },
  {
   "cell_type": "markdown",
   "metadata": {},
   "source": [
    "**スライスを使用して選択した値に再度新しい値を設定することで、リストを更新することができます。**        \n",
    "    \n",
    "例えば、list_greeting内のFalseを'Ave'で置き換えることができます。"
   ]
  },
  {
   "cell_type": "code",
   "execution_count": null,
   "metadata": {
    "jupyter": {
     "outputs_hidden": false
    }
   },
   "outputs": [],
   "source": [
    "list_greeting[-1] = 'Ave'\n",
    "print(list_greeting)"
   ]
  },
  {
   "cell_type": "markdown",
   "metadata": {},
   "source": [
    ">list_greetings に含まれている 10 をHolaに置き換えて、その後 list_greeting を表示して確認してみましょう。"
   ]
  },
  {
   "cell_type": "code",
   "execution_count": null,
   "metadata": {
    "jupyter": {
     "outputs_hidden": false
    }
   },
   "outputs": [],
   "source": []
  },
  {
   "cell_type": "code",
   "execution_count": null,
   "metadata": {
    "jupyter": {
     "outputs_hidden": false
    }
   },
   "outputs": [],
   "source": [
    "# %load ../solutions/01_27.py"
   ]
  },
  {
   "cell_type": "markdown",
   "metadata": {},
   "source": [
    "リスト内にリストを持つことができ、これらは通常「ネストされたリスト」と呼ばれます。"
   ]
  },
  {
   "cell_type": "code",
   "execution_count": null,
   "metadata": {
    "jupyter": {
     "outputs_hidden": false
    }
   },
   "outputs": [],
   "source": [
    "list_of_lists = [[1, 2, 3], [4, 5]]"
   ]
  },
  {
   "cell_type": "code",
   "execution_count": null,
   "metadata": {
    "jupyter": {
     "outputs_hidden": false
    }
   },
   "outputs": [],
   "source": [
    "list_of_lists[0]  # access the first element of the list, which is a list."
   ]
  },
  {
   "cell_type": "code",
   "execution_count": null,
   "metadata": {
    "jupyter": {
     "outputs_hidden": false
    }
   },
   "outputs": [],
   "source": [
    "list_of_lists[0][-1]  # access the last element of the first list."
   ]
  },
  {
   "cell_type": "markdown",
   "metadata": {},
   "source": [
    "リストは ' + ' を使用して連結できます。"
   ]
  },
  {
   "cell_type": "code",
   "execution_count": null,
   "metadata": {
    "jupyter": {
     "outputs_hidden": false
    }
   },
   "outputs": [],
   "source": [
    "[1, 2, 3] + [4, 5, 6]"
   ]
  },
  {
   "cell_type": "markdown",
   "metadata": {},
   "source": [
    "整数と一緒に使用してリスト内の値を繰り返すために乗算を使用することもできます。(整数（Integer/int型）のみ機能します)"
   ]
  },
  {
   "cell_type": "code",
   "execution_count": null,
   "metadata": {
    "jupyter": {
     "outputs_hidden": false
    }
   },
   "outputs": [],
   "source": [
    "['Hey'] * 5"
   ]
  },
  {
   "cell_type": "markdown",
   "metadata": {},
   "source": [
    "また、リストで `in` / `not in` を使用することもできます。"
   ]
  },
  {
   "cell_type": "markdown",
   "metadata": {},
   "source": [
    ">10が list_greeting 内に含まれているかどうかを確認してみましょう。"
   ]
  },
  {
   "cell_type": "code",
   "execution_count": null,
   "metadata": {
    "jupyter": {
     "outputs_hidden": false
    }
   },
   "outputs": [],
   "source": []
  },
  {
   "cell_type": "code",
   "execution_count": null,
   "metadata": {
    "jupyter": {
     "outputs_hidden": false
    }
   },
   "outputs": [],
   "source": [
    "# %load ../solutions/01_28.py"
   ]
  },
  {
   "cell_type": "markdown",
   "metadata": {},
   "source": [
    ">'Ole' が list_greeting 内に含まれていないかどうかを確認してみましょう。"
   ]
  },
  {
   "cell_type": "code",
   "execution_count": null,
   "metadata": {
    "jupyter": {
     "outputs_hidden": false
    }
   },
   "outputs": [],
   "source": []
  },
  {
   "cell_type": "code",
   "execution_count": null,
   "metadata": {
    "jupyter": {
     "outputs_hidden": false
    }
   },
   "outputs": [],
   "source": [
    "# %load ../solutions/01_29.py"
   ]
  },
  {
   "cell_type": "markdown",
   "metadata": {},
   "source": [
    "---\n",
    "\n",
    "<div class=\"alert alert-block alert-warning\" style=\"padding: 0px; padding-left: 20px; padding-top: 5px;\"><h2 style=\"color: #301E40\">\n",
    "Built-in functions\n",
    "</h2><br>\n",
    "</div>"
   ]
  },
  {
   "cell_type": "markdown",
   "metadata": {},
   "source": [
    "このノートブックの最初のページにあった `print(\"Hello World\")` が、最初にあなたが見た組み込み関数です。関数は、再利用するコード書くための方法です。 `print()` は、与えられた出力内容を表示します。\n",
    "Pythonには沢山の便利な関数がありますし、同じコードを何度も書かなくていいように自分で作ることもできます。\n",
    "\n",
    "以下は、Pythonでいつでも利用できる関数の一覧です。\n",
    "https://docs.python.org/ja/3/library/functions.html"
   ]
  },
  {
   "cell_type": "markdown",
   "metadata": {},
   "source": [
    ">\"Here we are!\"と表示してみましょう"
   ]
  },
  {
   "cell_type": "code",
   "execution_count": null,
   "metadata": {
    "jupyter": {
     "outputs_hidden": false
    }
   },
   "outputs": [],
   "source": []
  },
  {
   "cell_type": "code",
   "execution_count": null,
   "metadata": {
    "jupyter": {
     "outputs_hidden": false
    }
   },
   "outputs": [],
   "source": [
    "# %load ../solutions/01_30.py"
   ]
  },
  {
   "cell_type": "markdown",
   "metadata": {},
   "source": [
    ">変数snakesの文字列の長さを確認しましょう"
   ]
  },
  {
   "cell_type": "code",
   "execution_count": null,
   "metadata": {},
   "outputs": [],
   "source": [
    "snakes = \"🐍🐍🐍🐍🐍🐍🐍🐍🐍🐍🐍🐍🐍🐍🐍🐍🐍🐍🐍🐍🐍🐍🐍🐍🐍🐍🐍🐍🐍🐍🐍🐍🐍🐍🐍🐍🐍🐍🐍🐍🐍🐍\""
   ]
  },
  {
   "cell_type": "code",
   "execution_count": null,
   "metadata": {
    "jupyter": {
     "outputs_hidden": false
    }
   },
   "outputs": [],
   "source": []
  },
  {
   "cell_type": "code",
   "execution_count": null,
   "metadata": {
    "jupyter": {
     "outputs_hidden": false
    }
   },
   "outputs": [],
   "source": [
    "# %load ../solutions/01_31.py"
   ]
  },
  {
   "cell_type": "markdown",
   "metadata": {},
   "source": [
    ">list_greetingの長さを確認しましょう"
   ]
  },
  {
   "cell_type": "code",
   "execution_count": null,
   "metadata": {
    "jupyter": {
     "outputs_hidden": false
    }
   },
   "outputs": [],
   "source": []
  },
  {
   "cell_type": "code",
   "execution_count": null,
   "metadata": {
    "jupyter": {
     "outputs_hidden": false
    }
   },
   "outputs": [],
   "source": [
    "# %load ../solutions/01_32.py"
   ]
  },
  {
   "cell_type": "markdown",
   "metadata": {},
   "source": [
    "> 1, 2, 3, 4, 5の中の最大値を求めましょう"
   ]
  },
  {
   "cell_type": "code",
   "execution_count": null,
   "metadata": {
    "jupyter": {
     "outputs_hidden": false
    }
   },
   "outputs": [],
   "source": []
  },
  {
   "cell_type": "code",
   "execution_count": null,
   "metadata": {
    "jupyter": {
     "outputs_hidden": false
    }
   },
   "outputs": [],
   "source": [
    "# %load ../solutions/01_33.py"
   ]
  },
  {
   "cell_type": "markdown",
   "metadata": {},
   "source": [
    ">数値123.45を最も近い整数値になるように四捨五入しましょう"
   ]
  },
  {
   "cell_type": "code",
   "execution_count": null,
   "metadata": {
    "jupyter": {
     "outputs_hidden": false
    }
   },
   "outputs": [],
   "source": []
  },
  {
   "cell_type": "code",
   "execution_count": null,
   "metadata": {
    "jupyter": {
     "outputs_hidden": false
    }
   },
   "outputs": [],
   "source": [
    "# %load ../solutions/01_34.py"
   ]
  },
  {
   "cell_type": "markdown",
   "metadata": {},
   "source": [
    ">数値123.45を小数第1位まで四捨五入しましょう"
   ]
  },
  {
   "cell_type": "code",
   "execution_count": null,
   "metadata": {
    "jupyter": {
     "outputs_hidden": false
    }
   },
   "outputs": [],
   "source": []
  },
  {
   "cell_type": "code",
   "execution_count": null,
   "metadata": {
    "jupyter": {
     "outputs_hidden": false
    }
   },
   "outputs": [],
   "source": [
    "# %load ../solutions/01_35.py"
   ]
  },
  {
   "cell_type": "markdown",
   "metadata": {},
   "source": [
    "---\n",
    "\n",
    "<div class=\"alert alert-block alert-warning\" style=\"padding: 0px; padding-left: 20px; padding-top: 5px;\"><h2 style=\"color: #301E40\">\n",
    "Methods\n",
    "</h2><br>\n",
    "</div>"
   ]
  },
  {
   "cell_type": "markdown",
   "metadata": {},
   "source": [
    "メソッドはオブジェクトに関連付けられた関数です。基本的には、オブジェクトが自分自身に関する情報を知ったり操作したりする方法を提供します。\n",
    "\n",
    "例えば、文字列 s を大文字に変換するには .upper() メソッドを使用できます。"
   ]
  },
  {
   "cell_type": "code",
   "execution_count": null,
   "metadata": {
    "jupyter": {
     "outputs_hidden": false
    }
   },
   "outputs": [],
   "source": [
    "s.upper()"
   ]
  },
  {
   "cell_type": "markdown",
   "metadata": {},
   "source": [
    ">append メソッドを使用して、list_greeting に 'Aloha' を追加してください。"
   ]
  },
  {
   "cell_type": "code",
   "execution_count": null,
   "metadata": {
    "jupyter": {
     "outputs_hidden": false
    }
   },
   "outputs": [],
   "source": []
  },
  {
   "cell_type": "code",
   "execution_count": null,
   "metadata": {
    "jupyter": {
     "outputs_hidden": false
    }
   },
   "outputs": [],
   "source": [
    "# %load ../solutions/01_36.py"
   ]
  },
  {
   "cell_type": "markdown",
   "metadata": {},
   "source": [
    "---\n",
    "\n",
    "<div class=\"alert alert-block alert-warning\" style=\"padding: 0px; padding-left: 20px; padding-top: 5px;\"><h2 style=\"color: #301E40\">\n",
    "Importing modules\n",
    "</h2><br>\n",
    "</div>"
   ]
  },
  {
   "cell_type": "markdown",
   "metadata": {},
   "source": [
    "モジュールをインポートすることができます（Pythonコードで関数、クラス、変数を定義できるものです）。\n",
    "\n",
    "通常、Pythonプログラムやノートブックの冒頭にすべてのインポートを記述します。"
   ]
  },
  {
   "cell_type": "markdown",
   "metadata": {},
   "source": [
    "**mini警告**    \n",
    "インストールするパッケージが信頼できるものであることを確認してください！\n",
    "\n",
    "インストールを行う場合、常に下記の内容を注視するようにしましょう：\n",
    "\n",
    "1. このコードは誰が書いたのか？\n",
    "2. そのコードに自分のコンピュータへのアクセスを許すことができるか？\n",
    "3. 特に `pip install` は少し危険かもしれません。Python Package Index（略して\"PyPI\"）は誰でも何かをアップロードできる場所で、pip はそこからインストールします。したがって、最も小さなタイプミスもセキュリティリスクになる可能性があるため、非常に注意が必要です。\n",
    "4. `conda install` はより閉じられた環境で動作し、したがって企業向けの利用に適しています。\n"
   ]
  },
  {
   "cell_type": "markdown",
   "metadata": {},
   "source": [
    "> math ライブラリから、24と336の平方根を求めるために sqrt をインポートしてください。"
   ]
  },
  {
   "cell_type": "code",
   "execution_count": null,
   "metadata": {
    "jupyter": {
     "outputs_hidden": false
    }
   },
   "outputs": [],
   "source": []
  },
  {
   "cell_type": "code",
   "execution_count": null,
   "metadata": {
    "jupyter": {
     "outputs_hidden": false
    }
   },
   "outputs": [],
   "source": [
    "# %load ../solutions/01_37.py"
   ]
  },
  {
   "cell_type": "markdown",
   "metadata": {},
   "source": [
    "Pythonのプログラマは本当に怠け者です！（もしくは生産性に対する執念深さとも言えるかもしれません）\n",
    "\n",
    "そのため、インポートのためのエイリアス（別名）を定義できます。`as np` は2文字であり、一方 `numpy` は5文字です。長いプログラムを書く際には、入力が少なくて済むので便利です。\n",
    "\n",
    "> numpy を np としてインポートし (import numpy as np)、**`np.sin(np.pi/4)`**` を試してみてください。"
   ]
  },
  {
   "cell_type": "code",
   "execution_count": null,
   "metadata": {
    "jupyter": {
     "outputs_hidden": false
    }
   },
   "outputs": [],
   "source": []
  },
  {
   "cell_type": "code",
   "execution_count": null,
   "metadata": {
    "jupyter": {
     "outputs_hidden": false
    }
   },
   "outputs": [],
   "source": [
    "# %load ../solutions/01_38.py"
   ]
  },
  {
   "cell_type": "markdown",
   "metadata": {},
   "source": [
    "---\n",
    "\n",
    "# 🎉 おめでとうございます、Notebook 1の最後までたどり着きました！ 🎉\n",
    "よくがんばりましたね。ゆっくり休憩をとり、お好きなリラックスドリンクを淹れるか、軽食を取るか、おやつを楽しむか、もしくは #random チャンネルでおやつや飲み物の写真をシェアしてみてください。世界中から参加している皆さんの写真を見るのが楽しみです。☕️\n",
    "\n",
    "![](https://media0.giphy.com/media/3otPoS81loriI9sO8o/200.gif)"
   ]
  }
 ],
 "metadata": {
  "kernelspec": {
   "display_name": "Python (beginners-data-workshop)",
   "language": "python",
   "name": "beginners-data-workshop"
  },
  "language_info": {
   "codemirror_mode": {
    "name": "ipython",
    "version": 3
   },
   "file_extension": ".py",
   "mimetype": "text/x-python",
   "name": "python",
   "nbconvert_exporter": "python",
   "pygments_lexer": "ipython3",
   "version": "3.9.13"
  }
 },
 "nbformat": 4,
 "nbformat_minor": 4
}
