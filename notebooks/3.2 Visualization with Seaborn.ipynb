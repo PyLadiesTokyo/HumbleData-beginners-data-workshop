{
 "cells": [
  {
   "cell_type": "markdown",
   "metadata": {},
   "source": [
    "<div class=\"alert alert-block alert-info\" style=\"background-color: #301E40; border: 0px; -moz-border-radius: 10px; -webkit-border-radius: 10px;\">\n",
    "<br/><br/>\n",
    "<h1 style=\"font-size: 45px; color: white; align: center;\"><center>\n",
    "<img src=\"https://raw.githubusercontent.com/HumbleData/beginners-data-workshop/master/media/humble-data-logo-white-transparent.png\" width=\"250px\" /><br/><br/>\n",
    "Data visualization with Seaborn\n",
    "</center></h1>\n",
    "</div>"
   ]
  },
  {
   "cell_type": "markdown",
   "metadata": {},
   "source": [
    "## seabornについて\n",
    "Seaborn は matplotlib ベースの Python データ可視化ライブラリです。情報量の多い統計グラフィックを描画するための高レベルなインターフェイスを提供し、カテゴリーデータの可視化に威力を発揮します。\n",
    "\n",
    "![](https://d1rwhvwstyk9gu.cloudfront.net/2017/07/seaburn-1.png)"
   ]
  },
  {
   "cell_type": "markdown",
   "metadata": {},
   "source": [
    "今回は[Pokemon.csv](https://gist.github.com/armgilles/194bcff35001e7eb53a2a8b441e8b2c6)を使用します。データを見てみましょう"
   ]
  },
  {
   "cell_type": "code",
   "execution_count": null,
   "metadata": {
    "jupyter": {
     "outputs_hidden": false
    }
   },
   "outputs": [],
   "source": [
    "import pandas as pd\n",
    "\n",
    "pokemon_df = pd.read_csv('../data/Pokemon/pokemon.csv', index_col=0)\n",
    "pokemon_df.head(10)"
   ]
  },
  {
   "cell_type": "markdown",
   "metadata": {},
   "source": [
    "---\n",
    "\n",
    "<div class=\"alert alert-block alert-warning\" style=\"padding: 0px; padding-left: 20px; padding-top: 5px;\"><h2 style=\"color: #301E40\">\n",
    "Categorical scatterplots      \n",
    "</h2><br>\n",
    "    カテゴリ分類の散布図\n",
    "</div>"
   ]
  },
  {
   "cell_type": "markdown",
   "metadata": {},
   "source": [
    "異なるタイプのポケモンの攻撃力を比較し、どのタイプが他のタイプよりも一般的に強力かどうかを確認したい場合："
   ]
  },
  {
   "cell_type": "code",
   "execution_count": null,
   "metadata": {
    "jupyter": {
     "outputs_hidden": false
    }
   },
   "outputs": [],
   "source": [
    "import seaborn as sns\n",
    "import matplotlib.pyplot as plt\n",
    "\n",
    "sns.catplot(x=\"Type 1\", y=\"Attack\", data=pokemon_df);"
   ]
  },
  {
   "cell_type": "markdown",
   "metadata": {},
   "source": [
    "Seabornライブラリをimportをする際、私たちは通常「seaborn」を「sns」と簡略化します。(これは[West Wing / Rob Lowe](https://en.wikipedia.org/wiki/Sam_Seaborn)の引用です！)   \n",
    "Seabornはmatplotlibに依存しているライブラリなので、matplotlib.pyplotもインポートしなければならないことに注意してください。プロットができましたが、読みにくいので、設定を追加して見やすくしましょう。"
   ]
  },
  {
   "cell_type": "markdown",
   "metadata": {},
   "source": [
    ">以下の `sns.catplot` の最後の引数に `aspect=2.5` を加えてみてください。"
   ]
  },
  {
   "cell_type": "code",
   "execution_count": null,
   "metadata": {
    "jupyter": {
     "outputs_hidden": false
    }
   },
   "outputs": [],
   "source": [
    "sns.catplot(x=\"Type 1\", y=\"Attack\", data=pokemon_df);"
   ]
  },
  {
   "cell_type": "markdown",
   "metadata": {},
   "source": [
    "'aspect' を加えることで、プロットの幅が広くなることがわかります。プロットの幅は'aspect * height'に等しいので、'aspect'を加えることでプロットの幅を広げることができます。これは、プロットに追加できる設定の1つです。すべてのリストとその詳細については、[公式ドキュメント](https://seaborn.pydata.org/generated/seaborn.catplot.html#seaborn.catplot)を参照してください。"
   ]
  },
  {
   "cell_type": "markdown",
   "metadata": {},
   "source": [
    "例えば、ここでは、すべてのポイントにランダムなX軸オフセットがあり、ドット同士が重ならないように見ることができます。これは、デフォルトでTrueになっている「jitter」設定によって行われています。これをオフにして、どのように見えるか見てみましょう："
   ]
  },
  {
   "cell_type": "markdown",
   "metadata": {},
   "source": [
    ">以下の `sns.catplot` の最後の引数に `jitter=False` を追加してみましょう。"
   ]
  },
  {
   "cell_type": "code",
   "execution_count": null,
   "metadata": {
    "jupyter": {
     "outputs_hidden": false
    }
   },
   "outputs": [],
   "source": [
    "sns.catplot(x=\"Type 1\", y=\"Attack\", data=pokemon_df, aspect=2.5);"
   ]
  },
  {
   "cell_type": "markdown",
   "metadata": {},
   "source": [
    "これで、x軸のオフセットなしで、ポイントがカテゴリーに従って整列するプロットができました。どちらを使うかは、値の母集団（例えば攻撃力）が重要かどうかによります。私たちの場合、攻撃力が各タイプでどのように分布しているかを知りたいので、「jitter」をオンにするのがいいでしょう："
   ]
  },
  {
   "cell_type": "markdown",
   "metadata": {},
   "source": [
    ">以下の `sns.catplot` の最後の引数に `kind=\"swarm\"` を追加しましょう。"
   ]
  },
  {
   "cell_type": "code",
   "execution_count": null,
   "metadata": {
    "jupyter": {
     "outputs_hidden": false
    }
   },
   "outputs": [],
   "source": [
    "sns.catplot(x=\"Type 1\", y=\"Attack\", data=pokemon_df, aspect=2.5);"
   ]
  },
  {
   "cell_type": "markdown",
   "metadata": {},
   "source": [
    "ここでは「kind」を「swarm」に設定することで、ポイントが重ならないようにすることができます。欠点は、この方法だと横方向にスペースが必要になることです。紙面の都合上、プロットを超広幅にしたくない場合はxとyを反転させることで90度回転させることができ、アスペクトと高さを調整することもできます："
   ]
  },
  {
   "cell_type": "markdown",
   "metadata": {},
   "source": [
    ">以下の `sns.catplot`の引数の `x` と `y` を入れ替え、`height=12, aspect=0.6, kind=\"swarm\"` を追加しましょう。"
   ]
  },
  {
   "cell_type": "code",
   "execution_count": null,
   "metadata": {
    "jupyter": {
     "outputs_hidden": false
    }
   },
   "outputs": [],
   "source": [
    "sns.catplot(x=\"Type 1\", y=\"Attack\", data=pokemon_df);"
   ]
  },
  {
   "cell_type": "markdown",
   "metadata": {},
   "source": [
    "これまでのことから、いくつか分かったことがあります：\n",
    "\n",
    "1. エスパータイプのように、攻撃力の範囲が非常に広く、最後が長いタイプもあります（つまり、一部のエスパータイプは非常に高い攻撃力を持っていますが、ほとんどのエスパータイプはそうありません）。\n",
    "\n",
    "2. 一方、毒タイプの攻撃力は40～110程度です。\n",
    "\n",
    "3. 一般的にドラゴンタイプはフェアリータイプよりも攻撃力が高いですが、フェアリータイプの中にも攻撃力が高いものが2種類存在します。"
   ]
  },
  {
   "cell_type": "markdown",
   "metadata": {},
   "source": [
    "しかし、もう少し深く考えてみると、伝説のポケモンはより強力であるという説があります。そのポケモンが伝説のポケモンかどうかは、そのポケモンの「攻撃力」に関係してくるので、「伝説」によって色分けしてみましょう："
   ]
  },
  {
   "cell_type": "markdown",
   "metadata": {},
   "source": [
    ">`sns.catplot`の最後の引数に `hue=\"Legendary\"` を追加してみましょう。"
   ]
  },
  {
   "cell_type": "code",
   "execution_count": null,
   "metadata": {
    "jupyter": {
     "outputs_hidden": false
    }
   },
   "outputs": [],
   "source": [
    "plt.figure(figsize=(15, 6))\n",
    "sns.stripplot(x=\"Type 1\", y=\"Attack\", data=pokemon_df, size=7)"
   ]
  },
  {
   "cell_type": "markdown",
   "metadata": {},
   "source": [
    "エスパータイプの攻撃力が他より高いポケモンの多くが、実は伝説のポケモンであることがわかりました。これは地面タイプや飛行タイプにも当てはまります。"
   ]
  },
  {
   "cell_type": "markdown",
   "metadata": {},
   "source": [
    "### 練習問題\n",
    "\n",
    "さあ、次はあなたが分析する番です。「Hp」、「Def」、「Sp. Atk」、「Sp. Def」、「Sp.Atk」、「Sp.Def」、「Speed」の中からポケモンの特性を選び、上記と同様の分析を行い、ポケモンに関する興味深い事実が見つかるかどうかを確認します。"
   ]
  },
  {
   "cell_type": "markdown",
   "metadata": {},
   "source": [
    "---\n",
    "\n",
    "<div class=\"alert alert-block alert-warning\" style=\"padding: 0px; padding-left: 20px; padding-top: 5px;\"><h2 style=\"color: #301E40\">\n",
    "Building structured multi-plot grids\n",
    "</h2><br>\n",
    "    複数のデータをプロットする\n",
    "</div>"
   ]
  },
  {
   "cell_type": "markdown",
   "metadata": {},
   "source": [
    "比較のために、ひとつのグラフのなかに複数のデータをプロットしたい場合があります。複数のデータをプロットするための手段のひとつが seaborn の FacetGrid です。FacetGrid は 変数の分布や複数の変数の関係性を個別に可視化したい場合に利用できます。以下では、FacetGrid をポケモンが世代ごとに違いがあるかどうかを分析するために利用します。"
   ]
  },
  {
   "cell_type": "markdown",
   "metadata": {},
   "source": [
    "FacetGrid を利用するために、下記の条件で変数に代入しておきます。"
   ]
  },
  {
   "cell_type": "code",
   "execution_count": null,
   "metadata": {
    "jupyter": {
     "outputs_hidden": false
    }
   },
   "outputs": [],
   "source": [
    "g = sns.FacetGrid(pokemon_df, col=\"Generation\")"
   ]
  },
  {
   "cell_type": "markdown",
   "metadata": {},
   "source": [
    "pokemon_df には世代が6つ含まれています。（下記の unique() 関数で世代の数を確認することができます）  "
   ]
  },
  {
   "cell_type": "code",
   "execution_count": null,
   "metadata": {
    "jupyter": {
     "outputs_hidden": false
    }
   },
   "outputs": [],
   "source": [
    "pokemon_df[\"Generation\"].unique()"
   ]
  },
  {
   "cell_type": "markdown",
   "metadata": {},
   "source": [
    "しかし、プロットでは水平ではなく垂直に揃えようと思います。"
   ]
  },
  {
   "cell_type": "markdown",
   "metadata": {},
   "source": [
    "> 下記の `sns.FacetGrid` 関数の `col` を `row` に変更してみましょう。"
   ]
  },
  {
   "cell_type": "code",
   "execution_count": null,
   "metadata": {
    "jupyter": {
     "outputs_hidden": false
    }
   },
   "outputs": [],
   "source": [
    "g = sns.FacetGrid(pokemon_df, col=\"Generation\")"
   ]
  },
  {
   "cell_type": "markdown",
   "metadata": {},
   "source": [
    "レイアウトを決定することができました。では、どのようにデータをプロットしましょう？ [FacetGrid.map()](https://seaborn.pydata.org/generated/seaborn.FacetGrid.map.html#seaborn.FacetGrid.map) という関数でも、sns.countplot という関数を利用してもポケモンのタイプの誓いがいくつあるのかをカウントすることができます。"
   ]
  },
  {
   "cell_type": "code",
   "execution_count": null,
   "metadata": {
    "jupyter": {
     "outputs_hidden": false
    }
   },
   "outputs": [],
   "source": [
    "g = sns.FacetGrid(pokemon_df, row=\"Generation\", aspect=3.5)\n",
    "g.map(sns.countplot, \"Type 1\");"
   ]
  },
  {
   "cell_type": "markdown",
   "metadata": {},
   "source": [
    "しかし、前に利用した sns.catplot の方がシンプルに書くことができます。catplot の機能ははすでに FacetGrid にあるので、 `row` もしくは `col`を直接引数に設定していきます。"
   ]
  },
  {
   "cell_type": "markdown",
   "metadata": {},
   "source": [
    ">下記の `sns.catplot` の引数に  `row=\"Generation\"` を追加してください。"
   ]
  },
  {
   "cell_type": "code",
   "execution_count": null,
   "metadata": {
    "jupyter": {
     "outputs_hidden": false
    }
   },
   "outputs": [],
   "source": [
    "plt.figure(figsize=(15, 6))\n",
    "sns.stripplot(x=\"Type 1\", y=\"Attack\", data=pokemon_df, size=7, hue=\"Legendary\")"
   ]
  },
  {
   "cell_type": "markdown",
   "metadata": {},
   "source": [
    "これで、それぞれの世代で伝説のポケモンの super attack power (攻撃力「こうかはばつぐんだ」)が同じ世代の他のポケモンに比べて大きくなっている（外れ値）ことがわかります。  \n",
    "FacetGrids の詳しい説明については、seaborn の公式ドキュメントをご確認ください。: https://seaborn.pydata.org/tutorial/axis_grids.html  "
   ]
  },
  {
   "cell_type": "code",
   "execution_count": null,
   "metadata": {},
   "outputs": [],
   "source": []
  }
 ],
 "metadata": {
  "kernelspec": {
   "display_name": "Python 3",
   "language": "python",
   "name": "python3"
  },
  "language_info": {
   "codemirror_mode": {
    "name": "ipython",
    "version": 3
   },
   "file_extension": ".py",
   "mimetype": "text/x-python",
   "name": "python",
   "nbconvert_exporter": "python",
   "pygments_lexer": "ipython3",
   "version": "3.7.5"
  }
 },
 "nbformat": 4,
 "nbformat_minor": 4
}
